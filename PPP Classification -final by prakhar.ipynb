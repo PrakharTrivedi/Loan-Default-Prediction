{
 "cells": [
  {
   "cell_type": "markdown",
   "id": "6e0fc994",
   "metadata": {},
   "source": [
    "#### Loan Dataset"
   ]
  },
  {
   "cell_type": "code",
   "execution_count": 1,
   "id": "961e775e",
   "metadata": {},
   "outputs": [],
   "source": [
    "import pandas as pd\n",
    "import numpy as np\n",
    "from sklearn.metrics import classification_report\n",
    "from sklearn.model_selection import train_test_split\n",
    "import warnings\n",
    "warnings.filterwarnings('ignore')"
   ]
  },
  {
   "cell_type": "code",
   "execution_count": 2,
   "id": "d73bb083",
   "metadata": {},
   "outputs": [],
   "source": [
    "loan = pd.read_csv(\"Loans - Training Set.csv\")"
   ]
  },
  {
   "cell_type": "code",
   "execution_count": 3,
   "id": "39b67ca5",
   "metadata": {},
   "outputs": [
    {
     "data": {
      "text/html": [
       "<div>\n",
       "<style scoped>\n",
       "    .dataframe tbody tr th:only-of-type {\n",
       "        vertical-align: middle;\n",
       "    }\n",
       "\n",
       "    .dataframe tbody tr th {\n",
       "        vertical-align: top;\n",
       "    }\n",
       "\n",
       "    .dataframe thead th {\n",
       "        text-align: right;\n",
       "    }\n",
       "</style>\n",
       "<table border=\"1\" class=\"dataframe\">\n",
       "  <thead>\n",
       "    <tr style=\"text-align: right;\">\n",
       "      <th></th>\n",
       "      <th>Loan ID</th>\n",
       "      <th>Customer ID</th>\n",
       "      <th>Loan Status</th>\n",
       "      <th>Current Loan Amount</th>\n",
       "      <th>Term</th>\n",
       "      <th>Credit Score</th>\n",
       "      <th>Years in current job</th>\n",
       "      <th>Home Ownership</th>\n",
       "      <th>Annual Income</th>\n",
       "      <th>Purpose</th>\n",
       "      <th>Monthly Debt</th>\n",
       "      <th>Years of Credit History</th>\n",
       "      <th>Months since last delinquent</th>\n",
       "      <th>Number of Open Accounts</th>\n",
       "      <th>Number of Credit Problems</th>\n",
       "      <th>Current Credit Balance</th>\n",
       "      <th>Maximum Open Credit</th>\n",
       "      <th>Bankruptcies</th>\n",
       "      <th>Tax Liens</th>\n",
       "    </tr>\n",
       "  </thead>\n",
       "  <tbody>\n",
       "    <tr>\n",
       "      <th>0</th>\n",
       "      <td>6cf51492-02a2-423e-b93d-676f05b9ad53</td>\n",
       "      <td>7c202b37-2add-44e8-9aea-d5b119aea935</td>\n",
       "      <td>Charged Off</td>\n",
       "      <td>12232</td>\n",
       "      <td>Short Term</td>\n",
       "      <td>7280.0</td>\n",
       "      <td>&lt; 1 year</td>\n",
       "      <td>Rent</td>\n",
       "      <td>46643.0</td>\n",
       "      <td>Debt Consolidation</td>\n",
       "      <td>777.39</td>\n",
       "      <td>18.0</td>\n",
       "      <td>10.0</td>\n",
       "      <td>12</td>\n",
       "      <td>0</td>\n",
       "      <td>6762</td>\n",
       "      <td>7946</td>\n",
       "      <td>0.0</td>\n",
       "      <td>0.0</td>\n",
       "    </tr>\n",
       "    <tr>\n",
       "      <th>1</th>\n",
       "      <td>552e7ade-4292-4354-9ff9-c48031697d72</td>\n",
       "      <td>e7217b0a-07ac-47dd-b379-577b5a35b7c6</td>\n",
       "      <td>Charged Off</td>\n",
       "      <td>25014</td>\n",
       "      <td>Long Term</td>\n",
       "      <td>7330.0</td>\n",
       "      <td>10+ years</td>\n",
       "      <td>Home Mortgage</td>\n",
       "      <td>81099.0</td>\n",
       "      <td>Debt Consolidation</td>\n",
       "      <td>892.09</td>\n",
       "      <td>26.7</td>\n",
       "      <td>NaN</td>\n",
       "      <td>14</td>\n",
       "      <td>0</td>\n",
       "      <td>35706</td>\n",
       "      <td>77961</td>\n",
       "      <td>0.0</td>\n",
       "      <td>0.0</td>\n",
       "    </tr>\n",
       "    <tr>\n",
       "      <th>2</th>\n",
       "      <td>9b5e32b3-8d76-4801-afc8-d729d5a2e6b9</td>\n",
       "      <td>0a62fc41-16c8-40b5-92ff-9e4b763ce714</td>\n",
       "      <td>Charged Off</td>\n",
       "      <td>16117</td>\n",
       "      <td>Short Term</td>\n",
       "      <td>7240.0</td>\n",
       "      <td>9 years</td>\n",
       "      <td>Home Mortgage</td>\n",
       "      <td>60438.0</td>\n",
       "      <td>Home Improvements</td>\n",
       "      <td>1244.02</td>\n",
       "      <td>16.7</td>\n",
       "      <td>32.0</td>\n",
       "      <td>11</td>\n",
       "      <td>1</td>\n",
       "      <td>11275</td>\n",
       "      <td>14815</td>\n",
       "      <td>1.0</td>\n",
       "      <td>0.0</td>\n",
       "    </tr>\n",
       "    <tr>\n",
       "      <th>3</th>\n",
       "      <td>5419b7c7-ac11-4be2-a8a7-b131fb6d6dbe</td>\n",
       "      <td>30f36c59-5182-4482-8bbb-5b736849ae43</td>\n",
       "      <td>Charged Off</td>\n",
       "      <td>11716</td>\n",
       "      <td>Short Term</td>\n",
       "      <td>7400.0</td>\n",
       "      <td>3 years</td>\n",
       "      <td>Rent</td>\n",
       "      <td>34171.0</td>\n",
       "      <td>Debt Consolidation</td>\n",
       "      <td>990.94</td>\n",
       "      <td>10.0</td>\n",
       "      <td>NaN</td>\n",
       "      <td>21</td>\n",
       "      <td>0</td>\n",
       "      <td>7009</td>\n",
       "      <td>43533</td>\n",
       "      <td>0.0</td>\n",
       "      <td>0.0</td>\n",
       "    </tr>\n",
       "    <tr>\n",
       "      <th>4</th>\n",
       "      <td>1450910f-9495-4fc9-afaf-9bdf4b9821df</td>\n",
       "      <td>70c26012-bba5-42c0-8dcb-75295ada31bb</td>\n",
       "      <td>Charged Off</td>\n",
       "      <td>9789</td>\n",
       "      <td>Long Term</td>\n",
       "      <td>6860.0</td>\n",
       "      <td>10+ years</td>\n",
       "      <td>Home Mortgage</td>\n",
       "      <td>47003.0</td>\n",
       "      <td>Home Improvements</td>\n",
       "      <td>503.71</td>\n",
       "      <td>16.7</td>\n",
       "      <td>25.0</td>\n",
       "      <td>13</td>\n",
       "      <td>1</td>\n",
       "      <td>16913</td>\n",
       "      <td>19553</td>\n",
       "      <td>1.0</td>\n",
       "      <td>0.0</td>\n",
       "    </tr>\n",
       "  </tbody>\n",
       "</table>\n",
       "</div>"
      ],
      "text/plain": [
       "                                Loan ID                           Customer ID  \\\n",
       "0  6cf51492-02a2-423e-b93d-676f05b9ad53  7c202b37-2add-44e8-9aea-d5b119aea935   \n",
       "1  552e7ade-4292-4354-9ff9-c48031697d72  e7217b0a-07ac-47dd-b379-577b5a35b7c6   \n",
       "2  9b5e32b3-8d76-4801-afc8-d729d5a2e6b9  0a62fc41-16c8-40b5-92ff-9e4b763ce714   \n",
       "3  5419b7c7-ac11-4be2-a8a7-b131fb6d6dbe  30f36c59-5182-4482-8bbb-5b736849ae43   \n",
       "4  1450910f-9495-4fc9-afaf-9bdf4b9821df  70c26012-bba5-42c0-8dcb-75295ada31bb   \n",
       "\n",
       "   Loan Status  Current Loan Amount        Term  Credit Score  \\\n",
       "0  Charged Off                12232  Short Term        7280.0   \n",
       "1  Charged Off                25014   Long Term        7330.0   \n",
       "2  Charged Off                16117  Short Term        7240.0   \n",
       "3  Charged Off                11716  Short Term        7400.0   \n",
       "4  Charged Off                 9789   Long Term        6860.0   \n",
       "\n",
       "  Years in current job Home Ownership  Annual Income             Purpose  \\\n",
       "0             < 1 year           Rent        46643.0  Debt Consolidation   \n",
       "1            10+ years  Home Mortgage        81099.0  Debt Consolidation   \n",
       "2              9 years  Home Mortgage        60438.0   Home Improvements   \n",
       "3              3 years           Rent        34171.0  Debt Consolidation   \n",
       "4            10+ years  Home Mortgage        47003.0   Home Improvements   \n",
       "\n",
       "  Monthly Debt  Years of Credit History  Months since last delinquent  \\\n",
       "0       777.39                     18.0                          10.0   \n",
       "1       892.09                     26.7                           NaN   \n",
       "2      1244.02                     16.7                          32.0   \n",
       "3       990.94                     10.0                           NaN   \n",
       "4       503.71                     16.7                          25.0   \n",
       "\n",
       "   Number of Open Accounts  Number of Credit Problems  Current Credit Balance  \\\n",
       "0                       12                          0                    6762   \n",
       "1                       14                          0                   35706   \n",
       "2                       11                          1                   11275   \n",
       "3                       21                          0                    7009   \n",
       "4                       13                          1                   16913   \n",
       "\n",
       "  Maximum Open Credit  Bankruptcies  Tax Liens  \n",
       "0                7946           0.0        0.0  \n",
       "1               77961           0.0        0.0  \n",
       "2               14815           1.0        0.0  \n",
       "3               43533           0.0        0.0  \n",
       "4               19553           1.0        0.0  "
      ]
     },
     "execution_count": 3,
     "metadata": {},
     "output_type": "execute_result"
    }
   ],
   "source": [
    "loan.head()"
   ]
  },
  {
   "cell_type": "code",
   "execution_count": 186,
   "id": "e40f051b",
   "metadata": {},
   "outputs": [
    {
     "data": {
      "text/plain": [
       "Index(['Loan ID', 'Customer ID', 'Loan Status', 'Current Loan Amount', 'Term',\n",
       "       'Credit Score', 'Years in current job', 'Home Ownership',\n",
       "       'Annual Income', 'Purpose', 'Monthly Debt', 'Years of Credit History',\n",
       "       'Months since last delinquent', 'Number of Open Accounts',\n",
       "       'Number of Credit Problems', 'Current Credit Balance',\n",
       "       'Maximum Open Credit', 'Bankruptcies', 'Tax Liens'],\n",
       "      dtype='object')"
      ]
     },
     "execution_count": 186,
     "metadata": {},
     "output_type": "execute_result"
    }
   ],
   "source": [
    "loan.columns"
   ]
  },
  {
   "cell_type": "code",
   "execution_count": 187,
   "id": "d565c152",
   "metadata": {},
   "outputs": [
    {
     "data": {
      "text/html": [
       "<div>\n",
       "<style scoped>\n",
       "    .dataframe tbody tr th:only-of-type {\n",
       "        vertical-align: middle;\n",
       "    }\n",
       "\n",
       "    .dataframe tbody tr th {\n",
       "        vertical-align: top;\n",
       "    }\n",
       "\n",
       "    .dataframe thead th {\n",
       "        text-align: right;\n",
       "    }\n",
       "</style>\n",
       "<table border=\"1\" class=\"dataframe\">\n",
       "  <thead>\n",
       "    <tr style=\"text-align: right;\">\n",
       "      <th></th>\n",
       "      <th>Current Loan Amount</th>\n",
       "      <th>Credit Score</th>\n",
       "      <th>Annual Income</th>\n",
       "      <th>Years of Credit History</th>\n",
       "      <th>Months since last delinquent</th>\n",
       "      <th>Number of Open Accounts</th>\n",
       "      <th>Number of Credit Problems</th>\n",
       "      <th>Current Credit Balance</th>\n",
       "      <th>Bankruptcies</th>\n",
       "      <th>Tax Liens</th>\n",
       "    </tr>\n",
       "  </thead>\n",
       "  <tbody>\n",
       "    <tr>\n",
       "      <th>count</th>\n",
       "      <td>1.111070e+05</td>\n",
       "      <td>89769.000000</td>\n",
       "      <td>8.976900e+04</td>\n",
       "      <td>111107.000000</td>\n",
       "      <td>52104.000000</td>\n",
       "      <td>111107.000000</td>\n",
       "      <td>111107.000000</td>\n",
       "      <td>1.111070e+05</td>\n",
       "      <td>110879.00000</td>\n",
       "      <td>111096.000000</td>\n",
       "    </tr>\n",
       "    <tr>\n",
       "      <th>mean</th>\n",
       "      <td>1.147718e+07</td>\n",
       "      <td>1075.795029</td>\n",
       "      <td>7.248600e+04</td>\n",
       "      <td>18.201003</td>\n",
       "      <td>34.902272</td>\n",
       "      <td>11.125105</td>\n",
       "      <td>0.168027</td>\n",
       "      <td>1.548314e+04</td>\n",
       "      <td>0.11766</td>\n",
       "      <td>0.029353</td>\n",
       "    </tr>\n",
       "    <tr>\n",
       "      <th>std</th>\n",
       "      <td>3.185508e+07</td>\n",
       "      <td>1474.133505</td>\n",
       "      <td>5.593094e+04</td>\n",
       "      <td>7.014495</td>\n",
       "      <td>21.970696</td>\n",
       "      <td>5.010267</td>\n",
       "      <td>0.484212</td>\n",
       "      <td>1.982115e+04</td>\n",
       "      <td>0.35142</td>\n",
       "      <td>0.260575</td>\n",
       "    </tr>\n",
       "    <tr>\n",
       "      <th>min</th>\n",
       "      <td>4.910000e+02</td>\n",
       "      <td>585.000000</td>\n",
       "      <td>4.033000e+03</td>\n",
       "      <td>3.600000</td>\n",
       "      <td>0.000000</td>\n",
       "      <td>0.000000</td>\n",
       "      <td>0.000000</td>\n",
       "      <td>0.000000e+00</td>\n",
       "      <td>0.00000</td>\n",
       "      <td>0.000000</td>\n",
       "    </tr>\n",
       "    <tr>\n",
       "      <th>25%</th>\n",
       "      <td>8.162000e+03</td>\n",
       "      <td>705.000000</td>\n",
       "      <td>4.468800e+04</td>\n",
       "      <td>13.500000</td>\n",
       "      <td>16.000000</td>\n",
       "      <td>8.000000</td>\n",
       "      <td>0.000000</td>\n",
       "      <td>5.905000e+03</td>\n",
       "      <td>0.00000</td>\n",
       "      <td>0.000000</td>\n",
       "    </tr>\n",
       "    <tr>\n",
       "      <th>50%</th>\n",
       "      <td>1.418300e+04</td>\n",
       "      <td>724.000000</td>\n",
       "      <td>6.175200e+04</td>\n",
       "      <td>16.900000</td>\n",
       "      <td>32.000000</td>\n",
       "      <td>10.000000</td>\n",
       "      <td>0.000000</td>\n",
       "      <td>1.102700e+04</td>\n",
       "      <td>0.00000</td>\n",
       "      <td>0.000000</td>\n",
       "    </tr>\n",
       "    <tr>\n",
       "      <th>75%</th>\n",
       "      <td>2.382200e+04</td>\n",
       "      <td>741.000000</td>\n",
       "      <td>8.688700e+04</td>\n",
       "      <td>21.700000</td>\n",
       "      <td>51.000000</td>\n",
       "      <td>14.000000</td>\n",
       "      <td>0.000000</td>\n",
       "      <td>1.933800e+04</td>\n",
       "      <td>0.00000</td>\n",
       "      <td>0.000000</td>\n",
       "    </tr>\n",
       "    <tr>\n",
       "      <th>max</th>\n",
       "      <td>1.000000e+08</td>\n",
       "      <td>7510.000000</td>\n",
       "      <td>8.713547e+06</td>\n",
       "      <td>70.500000</td>\n",
       "      <td>176.000000</td>\n",
       "      <td>76.000000</td>\n",
       "      <td>15.000000</td>\n",
       "      <td>1.730472e+06</td>\n",
       "      <td>7.00000</td>\n",
       "      <td>15.000000</td>\n",
       "    </tr>\n",
       "  </tbody>\n",
       "</table>\n",
       "</div>"
      ],
      "text/plain": [
       "       Current Loan Amount  Credit Score  Annual Income  \\\n",
       "count         1.111070e+05  89769.000000   8.976900e+04   \n",
       "mean          1.147718e+07   1075.795029   7.248600e+04   \n",
       "std           3.185508e+07   1474.133505   5.593094e+04   \n",
       "min           4.910000e+02    585.000000   4.033000e+03   \n",
       "25%           8.162000e+03    705.000000   4.468800e+04   \n",
       "50%           1.418300e+04    724.000000   6.175200e+04   \n",
       "75%           2.382200e+04    741.000000   8.688700e+04   \n",
       "max           1.000000e+08   7510.000000   8.713547e+06   \n",
       "\n",
       "       Years of Credit History  Months since last delinquent  \\\n",
       "count            111107.000000                  52104.000000   \n",
       "mean                 18.201003                     34.902272   \n",
       "std                   7.014495                     21.970696   \n",
       "min                   3.600000                      0.000000   \n",
       "25%                  13.500000                     16.000000   \n",
       "50%                  16.900000                     32.000000   \n",
       "75%                  21.700000                     51.000000   \n",
       "max                  70.500000                    176.000000   \n",
       "\n",
       "       Number of Open Accounts  Number of Credit Problems  \\\n",
       "count            111107.000000              111107.000000   \n",
       "mean                 11.125105                   0.168027   \n",
       "std                   5.010267                   0.484212   \n",
       "min                   0.000000                   0.000000   \n",
       "25%                   8.000000                   0.000000   \n",
       "50%                  10.000000                   0.000000   \n",
       "75%                  14.000000                   0.000000   \n",
       "max                  76.000000                  15.000000   \n",
       "\n",
       "       Current Credit Balance  Bankruptcies      Tax Liens  \n",
       "count            1.111070e+05  110879.00000  111096.000000  \n",
       "mean             1.548314e+04       0.11766       0.029353  \n",
       "std              1.982115e+04       0.35142       0.260575  \n",
       "min              0.000000e+00       0.00000       0.000000  \n",
       "25%              5.905000e+03       0.00000       0.000000  \n",
       "50%              1.102700e+04       0.00000       0.000000  \n",
       "75%              1.933800e+04       0.00000       0.000000  \n",
       "max              1.730472e+06       7.00000      15.000000  "
      ]
     },
     "execution_count": 187,
     "metadata": {},
     "output_type": "execute_result"
    }
   ],
   "source": [
    "loan.describe()"
   ]
  },
  {
   "cell_type": "code",
   "execution_count": 188,
   "id": "3a2cbb17",
   "metadata": {
    "scrolled": true
   },
   "outputs": [
    {
     "data": {
      "text/plain": [
       "(111107, 19)"
      ]
     },
     "execution_count": 188,
     "metadata": {},
     "output_type": "execute_result"
    }
   ],
   "source": [
    "loan.shape"
   ]
  },
  {
   "cell_type": "code",
   "execution_count": 189,
   "id": "f170c4cd",
   "metadata": {},
   "outputs": [
    {
     "name": "stdout",
     "output_type": "stream",
     "text": [
      "<class 'pandas.core.frame.DataFrame'>\n",
      "RangeIndex: 111107 entries, 0 to 111106\n",
      "Data columns (total 19 columns):\n",
      " #   Column                        Non-Null Count   Dtype  \n",
      "---  ------                        --------------   -----  \n",
      " 0   Loan ID                       111107 non-null  object \n",
      " 1   Customer ID                   111107 non-null  object \n",
      " 2   Loan Status                   111107 non-null  object \n",
      " 3   Current Loan Amount           111107 non-null  int64  \n",
      " 4   Term                          111107 non-null  object \n",
      " 5   Credit Score                  89769 non-null   float64\n",
      " 6   Years in current job          106414 non-null  object \n",
      " 7   Home Ownership                111107 non-null  object \n",
      " 8   Annual Income                 89769 non-null   float64\n",
      " 9   Purpose                       111107 non-null  object \n",
      " 10  Monthly Debt                  111107 non-null  object \n",
      " 11  Years of Credit History       111107 non-null  float64\n",
      " 12  Months since last delinquent  52104 non-null   float64\n",
      " 13  Number of Open Accounts       111107 non-null  int64  \n",
      " 14  Number of Credit Problems     111107 non-null  int64  \n",
      " 15  Current Credit Balance        111107 non-null  int64  \n",
      " 16  Maximum Open Credit           111107 non-null  object \n",
      " 17  Bankruptcies                  110879 non-null  float64\n",
      " 18  Tax Liens                     111096 non-null  float64\n",
      "dtypes: float64(6), int64(4), object(9)\n",
      "memory usage: 16.1+ MB\n"
     ]
    }
   ],
   "source": [
    "loan.info()"
   ]
  },
  {
   "cell_type": "code",
   "execution_count": 190,
   "id": "2a74388e",
   "metadata": {},
   "outputs": [
    {
     "data": {
      "text/plain": [
       "Loan ID                          0.000000\n",
       "Customer ID                      0.000000\n",
       "Loan Status                      0.000000\n",
       "Current Loan Amount              0.000000\n",
       "Term                             0.000000\n",
       "Credit Score                    19.204911\n",
       "Years in current job             4.223856\n",
       "Home Ownership                   0.000000\n",
       "Annual Income                   19.204911\n",
       "Purpose                          0.000000\n",
       "Monthly Debt                     0.000000\n",
       "Years of Credit History          0.000000\n",
       "Months since last delinquent    53.104665\n",
       "Number of Open Accounts          0.000000\n",
       "Number of Credit Problems        0.000000\n",
       "Current Credit Balance           0.000000\n",
       "Maximum Open Credit              0.000000\n",
       "Bankruptcies                     0.205208\n",
       "Tax Liens                        0.009900\n",
       "dtype: float64"
      ]
     },
     "execution_count": 190,
     "metadata": {},
     "output_type": "execute_result"
    }
   ],
   "source": [
    "# Getting the proportion of null values in each column\n",
    "(loan.isnull().sum()*100)/len(loan)"
   ]
  },
  {
   "cell_type": "markdown",
   "id": "884393e9",
   "metadata": {},
   "source": [
    "The columns Credit Score, Annual Income, Months since last delinquent has a lot of null values. Whereas the columns Tax Liens, Bankruptcies,Years in current job have lesser proportion of missing values."
   ]
  },
  {
   "cell_type": "code",
   "execution_count": 191,
   "id": "05c5742a",
   "metadata": {},
   "outputs": [
    {
     "data": {
      "text/plain": [
       "0.0     108964\n",
       "1.0       1485\n",
       "2.0        408\n",
       "3.0        124\n",
       "4.0         66\n",
       "5.0         19\n",
       "6.0         12\n",
       "7.0          7\n",
       "9.0          5\n",
       "8.0          2\n",
       "11.0         2\n",
       "15.0         1\n",
       "10.0         1\n",
       "Name: Tax Liens, dtype: int64"
      ]
     },
     "execution_count": 191,
     "metadata": {},
     "output_type": "execute_result"
    }
   ],
   "source": [
    "loan['Tax Liens'].value_counts()"
   ]
  },
  {
   "cell_type": "code",
   "execution_count": 192,
   "id": "f711f8a9",
   "metadata": {},
   "outputs": [
    {
     "data": {
      "text/plain": [
       "Fully Paid     85934\n",
       "Charged Off    25173\n",
       "Name: Loan Status, dtype: int64"
      ]
     },
     "execution_count": 192,
     "metadata": {},
     "output_type": "execute_result"
    }
   ],
   "source": [
    "# Checking the target class imbalance of the dataset\n",
    "loan['Loan Status'].value_counts()"
   ]
  },
  {
   "cell_type": "code",
   "execution_count": 193,
   "id": "3b059b9d",
   "metadata": {},
   "outputs": [
    {
     "data": {
      "text/plain": [
       "Fully Paid     77.343462\n",
       "Charged Off    22.656538\n",
       "Name: Loan Status, dtype: float64"
      ]
     },
     "execution_count": 193,
     "metadata": {},
     "output_type": "execute_result"
    }
   ],
   "source": [
    "# Observation : Nearly 77% of the observations belongs to target class 'Fully Paid' whereas nearly 23% belongs to 'Charged Off'\n",
    "(loan['Loan Status'].value_counts()*100)/len(loan)"
   ]
  },
  {
   "cell_type": "code",
   "execution_count": 194,
   "id": "4ee0c464",
   "metadata": {},
   "outputs": [
    {
     "data": {
      "text/plain": [
       "0                  Rent\n",
       "1         Home Mortgage\n",
       "3                  Rent\n",
       "6         Home Mortgage\n",
       "7              Own Home\n",
       "              ...      \n",
       "111102             Rent\n",
       "111103    Home Mortgage\n",
       "111104    Home Mortgage\n",
       "111105    Home Mortgage\n",
       "111106         Own Home\n",
       "Name: Home Ownership, Length: 87277, dtype: object"
      ]
     },
     "execution_count": 194,
     "metadata": {},
     "output_type": "execute_result"
    }
   ],
   "source": [
    "loan[loan['Purpose']=='Debt Consolidation']['Home Ownership']"
   ]
  },
  {
   "cell_type": "code",
   "execution_count": 195,
   "id": "98a158f9",
   "metadata": {},
   "outputs": [
    {
     "name": "stdout",
     "output_type": "stream",
     "text": [
      "0    0.0\n",
      "Name: Tax Liens, dtype: float64\n",
      "0    0.0\n",
      "Name: Tax Liens, dtype: float64\n"
     ]
    }
   ],
   "source": [
    "# Determining the conditional mode for Tax Liens column\n",
    "print(loan[loan['Loan Status']=='Fully Paid']['Tax Liens'].mode())\n",
    "print(loan[loan['Loan Status']=='Charged Off']['Tax Liens'].mode())"
   ]
  },
  {
   "cell_type": "code",
   "execution_count": 196,
   "id": "a0323e1b",
   "metadata": {},
   "outputs": [],
   "source": [
    "# Filling the missing values with the mode since it's a categorical column\n",
    "loan['Tax Liens'].fillna(value=0.0,inplace=True)"
   ]
  },
  {
   "cell_type": "code",
   "execution_count": 197,
   "id": "99d31b3f",
   "metadata": {},
   "outputs": [
    {
     "data": {
      "text/plain": [
       "0.0    98650\n",
       "1.0    11613\n",
       "2.0      468\n",
       "3.0      110\n",
       "4.0       27\n",
       "5.0        8\n",
       "6.0        2\n",
       "7.0        1\n",
       "Name: Bankruptcies, dtype: int64"
      ]
     },
     "execution_count": 197,
     "metadata": {},
     "output_type": "execute_result"
    }
   ],
   "source": [
    "loan.Bankruptcies.value_counts()"
   ]
  },
  {
   "cell_type": "code",
   "execution_count": 198,
   "id": "121a9dcc",
   "metadata": {},
   "outputs": [
    {
     "name": "stdout",
     "output_type": "stream",
     "text": [
      "0    0.0\n",
      "Name: Bankruptcies, dtype: float64\n",
      "0    0.0\n",
      "Name: Bankruptcies, dtype: float64\n"
     ]
    }
   ],
   "source": [
    "# Determining the conditional mode for Bankruptcies column\n",
    "print(loan[loan['Loan Status']=='Fully Paid']['Bankruptcies'].mode())\n",
    "print(loan[loan['Loan Status']=='Charged Off']['Bankruptcies'].mode())"
   ]
  },
  {
   "cell_type": "code",
   "execution_count": 199,
   "id": "bb93cc35",
   "metadata": {},
   "outputs": [],
   "source": [
    "# Filling the missing values with the mode since it's a categorical column\n",
    "loan['Bankruptcies'].fillna(value=0.0,inplace=True)"
   ]
  },
  {
   "cell_type": "code",
   "execution_count": 200,
   "id": "f4b380f8",
   "metadata": {},
   "outputs": [
    {
     "data": {
      "text/plain": [
       "10+ years    34551\n",
       "2 years      10158\n",
       "3 years       9133\n",
       "< 1 year      9055\n",
       "5 years       7559\n",
       "1 year        7175\n",
       "4 years       6828\n",
       "6 years       6310\n",
       "7 years       6186\n",
       "8 years       5105\n",
       "9 years       4354\n",
       "Name: Years in current job, dtype: int64"
      ]
     },
     "execution_count": 200,
     "metadata": {},
     "output_type": "execute_result"
    }
   ],
   "source": [
    "loan['Years in current job'].value_counts()"
   ]
  },
  {
   "cell_type": "code",
   "execution_count": 201,
   "id": "ae250f8d",
   "metadata": {},
   "outputs": [
    {
     "name": "stdout",
     "output_type": "stream",
     "text": [
      "0    10+ years\n",
      "Name: Years in current job, dtype: object\n",
      "0    10+ years\n",
      "Name: Years in current job, dtype: object\n"
     ]
    }
   ],
   "source": [
    "# Determining the conditional mode for Years in current job column\n",
    "print(loan[loan['Loan Status']=='Fully Paid']['Years in current job'].mode())\n",
    "print(loan[loan['Loan Status']=='Charged Off']['Years in current job'].mode())"
   ]
  },
  {
   "cell_type": "code",
   "execution_count": 202,
   "id": "ff3c77f3",
   "metadata": {},
   "outputs": [],
   "source": [
    "# Filling the missing values with the mode since it's a categorical column\n",
    "loan['Years in current job'].fillna(value='10+ years',inplace=True)"
   ]
  },
  {
   "cell_type": "code",
   "execution_count": 203,
   "id": "a267f469",
   "metadata": {},
   "outputs": [
    {
     "data": {
      "text/plain": [
       "0"
      ]
     },
     "execution_count": 203,
     "metadata": {},
     "output_type": "execute_result"
    }
   ],
   "source": [
    "loan['Bankruptcies'].isnull().sum()"
   ]
  },
  {
   "cell_type": "code",
   "execution_count": 204,
   "id": "99f4d036",
   "metadata": {},
   "outputs": [
    {
     "data": {
      "text/plain": [
       "Home Mortgage    53818\n",
       "Rent             46868\n",
       "Own Home         10188\n",
       "HaveMortgage       233\n",
       "Name: Home Ownership, dtype: int64"
      ]
     },
     "execution_count": 204,
     "metadata": {},
     "output_type": "execute_result"
    }
   ],
   "source": [
    "loan['Home Ownership'].value_counts()"
   ]
  },
  {
   "cell_type": "markdown",
   "id": "896d1392",
   "metadata": {},
   "source": [
    "As per the data dictionary, the home ownership column has 3 posible values namely 'Rent','Home Mortgage' and 'Own' but there may be a typo in this case. Hence, we need to replace all the instances of 'HaveMortgage' with 'Home Mortgage'"
   ]
  },
  {
   "cell_type": "code",
   "execution_count": 205,
   "id": "297baa83",
   "metadata": {},
   "outputs": [],
   "source": [
    "# Replacing every instance of 'HaveMortgage' with 'Home Mortgage'\n",
    "loan['Home Ownership'] = loan['Home Ownership'].apply(lambda x: 'Home Mortgage' if x=='HaveMortgage' else x)"
   ]
  },
  {
   "cell_type": "markdown",
   "id": "c9168617",
   "metadata": {},
   "source": [
    "Can also be done by using loan.replace({'HaveMortgage' : 'Home Mortgage'})"
   ]
  },
  {
   "cell_type": "code",
   "execution_count": 206,
   "id": "370e6f0e",
   "metadata": {},
   "outputs": [
    {
     "data": {
      "text/plain": [
       "array(['Rent', 'Home Mortgage', 'Own Home'], dtype=object)"
      ]
     },
     "execution_count": 206,
     "metadata": {},
     "output_type": "execute_result"
    }
   ],
   "source": [
    "# Checking for the number of unique values in the Home Ownership series\n",
    "loan['Home Ownership'].unique()"
   ]
  },
  {
   "cell_type": "code",
   "execution_count": 207,
   "id": "497c6577",
   "metadata": {},
   "outputs": [],
   "source": [
    "# The credit score as specified in the data dictionary are in the range of 0 to 800\n",
    "loan['Credit Score'] = loan['Credit Score'].apply(lambda x: x/10 if x>800 else x)"
   ]
  },
  {
   "cell_type": "code",
   "execution_count": 208,
   "id": "cf7dd783",
   "metadata": {},
   "outputs": [
    {
     "data": {
      "text/html": [
       "<div>\n",
       "<style scoped>\n",
       "    .dataframe tbody tr th:only-of-type {\n",
       "        vertical-align: middle;\n",
       "    }\n",
       "\n",
       "    .dataframe tbody tr th {\n",
       "        vertical-align: top;\n",
       "    }\n",
       "\n",
       "    .dataframe thead th {\n",
       "        text-align: right;\n",
       "    }\n",
       "</style>\n",
       "<table border=\"1\" class=\"dataframe\">\n",
       "  <thead>\n",
       "    <tr style=\"text-align: right;\">\n",
       "      <th></th>\n",
       "      <th>Loan ID</th>\n",
       "      <th>Customer ID</th>\n",
       "      <th>Loan Status</th>\n",
       "      <th>Current Loan Amount</th>\n",
       "      <th>Term</th>\n",
       "      <th>Credit Score</th>\n",
       "      <th>Years in current job</th>\n",
       "      <th>Home Ownership</th>\n",
       "      <th>Annual Income</th>\n",
       "      <th>Purpose</th>\n",
       "      <th>Monthly Debt</th>\n",
       "      <th>Years of Credit History</th>\n",
       "      <th>Months since last delinquent</th>\n",
       "      <th>Number of Open Accounts</th>\n",
       "      <th>Number of Credit Problems</th>\n",
       "      <th>Current Credit Balance</th>\n",
       "      <th>Maximum Open Credit</th>\n",
       "      <th>Bankruptcies</th>\n",
       "      <th>Tax Liens</th>\n",
       "    </tr>\n",
       "  </thead>\n",
       "  <tbody>\n",
       "    <tr>\n",
       "      <th>0</th>\n",
       "      <td>6cf51492-02a2-423e-b93d-676f05b9ad53</td>\n",
       "      <td>7c202b37-2add-44e8-9aea-d5b119aea935</td>\n",
       "      <td>Charged Off</td>\n",
       "      <td>12232</td>\n",
       "      <td>Short Term</td>\n",
       "      <td>728.0</td>\n",
       "      <td>&lt; 1 year</td>\n",
       "      <td>Rent</td>\n",
       "      <td>46643.0</td>\n",
       "      <td>Debt Consolidation</td>\n",
       "      <td>777.39</td>\n",
       "      <td>18.0</td>\n",
       "      <td>10.0</td>\n",
       "      <td>12</td>\n",
       "      <td>0</td>\n",
       "      <td>6762</td>\n",
       "      <td>7946</td>\n",
       "      <td>0.0</td>\n",
       "      <td>0.0</td>\n",
       "    </tr>\n",
       "    <tr>\n",
       "      <th>1</th>\n",
       "      <td>552e7ade-4292-4354-9ff9-c48031697d72</td>\n",
       "      <td>e7217b0a-07ac-47dd-b379-577b5a35b7c6</td>\n",
       "      <td>Charged Off</td>\n",
       "      <td>25014</td>\n",
       "      <td>Long Term</td>\n",
       "      <td>733.0</td>\n",
       "      <td>10+ years</td>\n",
       "      <td>Home Mortgage</td>\n",
       "      <td>81099.0</td>\n",
       "      <td>Debt Consolidation</td>\n",
       "      <td>892.09</td>\n",
       "      <td>26.7</td>\n",
       "      <td>NaN</td>\n",
       "      <td>14</td>\n",
       "      <td>0</td>\n",
       "      <td>35706</td>\n",
       "      <td>77961</td>\n",
       "      <td>0.0</td>\n",
       "      <td>0.0</td>\n",
       "    </tr>\n",
       "    <tr>\n",
       "      <th>2</th>\n",
       "      <td>9b5e32b3-8d76-4801-afc8-d729d5a2e6b9</td>\n",
       "      <td>0a62fc41-16c8-40b5-92ff-9e4b763ce714</td>\n",
       "      <td>Charged Off</td>\n",
       "      <td>16117</td>\n",
       "      <td>Short Term</td>\n",
       "      <td>724.0</td>\n",
       "      <td>9 years</td>\n",
       "      <td>Home Mortgage</td>\n",
       "      <td>60438.0</td>\n",
       "      <td>Home Improvements</td>\n",
       "      <td>1244.02</td>\n",
       "      <td>16.7</td>\n",
       "      <td>32.0</td>\n",
       "      <td>11</td>\n",
       "      <td>1</td>\n",
       "      <td>11275</td>\n",
       "      <td>14815</td>\n",
       "      <td>1.0</td>\n",
       "      <td>0.0</td>\n",
       "    </tr>\n",
       "    <tr>\n",
       "      <th>3</th>\n",
       "      <td>5419b7c7-ac11-4be2-a8a7-b131fb6d6dbe</td>\n",
       "      <td>30f36c59-5182-4482-8bbb-5b736849ae43</td>\n",
       "      <td>Charged Off</td>\n",
       "      <td>11716</td>\n",
       "      <td>Short Term</td>\n",
       "      <td>740.0</td>\n",
       "      <td>3 years</td>\n",
       "      <td>Rent</td>\n",
       "      <td>34171.0</td>\n",
       "      <td>Debt Consolidation</td>\n",
       "      <td>990.94</td>\n",
       "      <td>10.0</td>\n",
       "      <td>NaN</td>\n",
       "      <td>21</td>\n",
       "      <td>0</td>\n",
       "      <td>7009</td>\n",
       "      <td>43533</td>\n",
       "      <td>0.0</td>\n",
       "      <td>0.0</td>\n",
       "    </tr>\n",
       "    <tr>\n",
       "      <th>4</th>\n",
       "      <td>1450910f-9495-4fc9-afaf-9bdf4b9821df</td>\n",
       "      <td>70c26012-bba5-42c0-8dcb-75295ada31bb</td>\n",
       "      <td>Charged Off</td>\n",
       "      <td>9789</td>\n",
       "      <td>Long Term</td>\n",
       "      <td>686.0</td>\n",
       "      <td>10+ years</td>\n",
       "      <td>Home Mortgage</td>\n",
       "      <td>47003.0</td>\n",
       "      <td>Home Improvements</td>\n",
       "      <td>503.71</td>\n",
       "      <td>16.7</td>\n",
       "      <td>25.0</td>\n",
       "      <td>13</td>\n",
       "      <td>1</td>\n",
       "      <td>16913</td>\n",
       "      <td>19553</td>\n",
       "      <td>1.0</td>\n",
       "      <td>0.0</td>\n",
       "    </tr>\n",
       "  </tbody>\n",
       "</table>\n",
       "</div>"
      ],
      "text/plain": [
       "                                Loan ID                           Customer ID  \\\n",
       "0  6cf51492-02a2-423e-b93d-676f05b9ad53  7c202b37-2add-44e8-9aea-d5b119aea935   \n",
       "1  552e7ade-4292-4354-9ff9-c48031697d72  e7217b0a-07ac-47dd-b379-577b5a35b7c6   \n",
       "2  9b5e32b3-8d76-4801-afc8-d729d5a2e6b9  0a62fc41-16c8-40b5-92ff-9e4b763ce714   \n",
       "3  5419b7c7-ac11-4be2-a8a7-b131fb6d6dbe  30f36c59-5182-4482-8bbb-5b736849ae43   \n",
       "4  1450910f-9495-4fc9-afaf-9bdf4b9821df  70c26012-bba5-42c0-8dcb-75295ada31bb   \n",
       "\n",
       "   Loan Status  Current Loan Amount        Term  Credit Score  \\\n",
       "0  Charged Off                12232  Short Term         728.0   \n",
       "1  Charged Off                25014   Long Term         733.0   \n",
       "2  Charged Off                16117  Short Term         724.0   \n",
       "3  Charged Off                11716  Short Term         740.0   \n",
       "4  Charged Off                 9789   Long Term         686.0   \n",
       "\n",
       "  Years in current job Home Ownership  Annual Income             Purpose  \\\n",
       "0             < 1 year           Rent        46643.0  Debt Consolidation   \n",
       "1            10+ years  Home Mortgage        81099.0  Debt Consolidation   \n",
       "2              9 years  Home Mortgage        60438.0   Home Improvements   \n",
       "3              3 years           Rent        34171.0  Debt Consolidation   \n",
       "4            10+ years  Home Mortgage        47003.0   Home Improvements   \n",
       "\n",
       "  Monthly Debt  Years of Credit History  Months since last delinquent  \\\n",
       "0       777.39                     18.0                          10.0   \n",
       "1       892.09                     26.7                           NaN   \n",
       "2      1244.02                     16.7                          32.0   \n",
       "3       990.94                     10.0                           NaN   \n",
       "4       503.71                     16.7                          25.0   \n",
       "\n",
       "   Number of Open Accounts  Number of Credit Problems  Current Credit Balance  \\\n",
       "0                       12                          0                    6762   \n",
       "1                       14                          0                   35706   \n",
       "2                       11                          1                   11275   \n",
       "3                       21                          0                    7009   \n",
       "4                       13                          1                   16913   \n",
       "\n",
       "  Maximum Open Credit  Bankruptcies  Tax Liens  \n",
       "0                7946           0.0        0.0  \n",
       "1               77961           0.0        0.0  \n",
       "2               14815           1.0        0.0  \n",
       "3               43533           0.0        0.0  \n",
       "4               19553           1.0        0.0  "
      ]
     },
     "execution_count": 208,
     "metadata": {},
     "output_type": "execute_result"
    }
   ],
   "source": [
    "loan.head()"
   ]
  },
  {
   "cell_type": "markdown",
   "id": "ad2b36b1",
   "metadata": {},
   "source": [
    "#### Current Loan Amount"
   ]
  },
  {
   "cell_type": "code",
   "execution_count": 209,
   "id": "eb1abd84",
   "metadata": {},
   "outputs": [
    {
     "data": {
      "text/plain": [
       "99999999    12738\n",
       "10166          31\n",
       "10151          31\n",
       "9827           30\n",
       "4953           29\n",
       "            ...  \n",
       "13376           1\n",
       "18136           1\n",
       "12522           1\n",
       "12348           1\n",
       "24629           1\n",
       "Name: Current Loan Amount, Length: 22541, dtype: int64"
      ]
     },
     "execution_count": 209,
     "metadata": {},
     "output_type": "execute_result"
    }
   ],
   "source": [
    "loan['Current Loan Amount'].value_counts()"
   ]
  },
  {
   "cell_type": "markdown",
   "id": "829f4e33",
   "metadata": {},
   "source": [
    "#### Term"
   ]
  },
  {
   "cell_type": "code",
   "execution_count": 210,
   "id": "97a030f7",
   "metadata": {},
   "outputs": [
    {
     "data": {
      "text/plain": [
       "Short Term    80274\n",
       "Long Term     30833\n",
       "Name: Term, dtype: int64"
      ]
     },
     "execution_count": 210,
     "metadata": {},
     "output_type": "execute_result"
    }
   ],
   "source": [
    "loan['Term'].value_counts()"
   ]
  },
  {
   "cell_type": "markdown",
   "id": "e3db20f1",
   "metadata": {},
   "source": [
    "#### Years in current job"
   ]
  },
  {
   "cell_type": "code",
   "execution_count": 211,
   "id": "199c1885",
   "metadata": {},
   "outputs": [
    {
     "data": {
      "text/plain": [
       "10+ years    39244\n",
       "2 years      10158\n",
       "3 years       9133\n",
       "< 1 year      9055\n",
       "5 years       7559\n",
       "1 year        7175\n",
       "4 years       6828\n",
       "6 years       6310\n",
       "7 years       6186\n",
       "8 years       5105\n",
       "9 years       4354\n",
       "Name: Years in current job, dtype: int64"
      ]
     },
     "execution_count": 211,
     "metadata": {},
     "output_type": "execute_result"
    }
   ],
   "source": [
    "loan['Years in current job'].value_counts()"
   ]
  },
  {
   "cell_type": "markdown",
   "id": "0ba2e320",
   "metadata": {},
   "source": [
    "#### Home Ownership"
   ]
  },
  {
   "cell_type": "code",
   "execution_count": 212,
   "id": "42037b05",
   "metadata": {},
   "outputs": [
    {
     "data": {
      "text/plain": [
       "Home Mortgage    54051\n",
       "Rent             46868\n",
       "Own Home         10188\n",
       "Name: Home Ownership, dtype: int64"
      ]
     },
     "execution_count": 212,
     "metadata": {},
     "output_type": "execute_result"
    }
   ],
   "source": [
    "loan['Home Ownership'].value_counts()"
   ]
  },
  {
   "cell_type": "markdown",
   "id": "1df3bd48",
   "metadata": {},
   "source": [
    "#### Annual Income"
   ]
  },
  {
   "cell_type": "code",
   "execution_count": 213,
   "id": "27ae2314",
   "metadata": {},
   "outputs": [
    {
     "data": {
      "text/plain": [
       "count    8.976900e+04\n",
       "mean     7.248600e+04\n",
       "std      5.593094e+04\n",
       "min      4.033000e+03\n",
       "25%      4.468800e+04\n",
       "50%      6.175200e+04\n",
       "75%      8.688700e+04\n",
       "max      8.713547e+06\n",
       "Name: Annual Income, dtype: float64"
      ]
     },
     "execution_count": 213,
     "metadata": {},
     "output_type": "execute_result"
    }
   ],
   "source": [
    "loan['Annual Income'].describe()"
   ]
  },
  {
   "cell_type": "markdown",
   "id": "a3e5f901",
   "metadata": {},
   "source": [
    "#### Purpose "
   ]
  },
  {
   "cell_type": "code",
   "execution_count": 214,
   "id": "b48b3fa4",
   "metadata": {},
   "outputs": [
    {
     "data": {
      "text/plain": [
       "16"
      ]
     },
     "execution_count": 214,
     "metadata": {},
     "output_type": "execute_result"
    }
   ],
   "source": [
    "loan['Purpose'].nunique()"
   ]
  },
  {
   "cell_type": "code",
   "execution_count": 215,
   "id": "965c5ee8",
   "metadata": {},
   "outputs": [
    {
     "data": {
      "text/plain": [
       "Debt Consolidation      87277\n",
       "other                    6671\n",
       "Home Improvements        6504\n",
       "Other                    3595\n",
       "Business Loan            1749\n",
       "Buy a Car                1422\n",
       "Medical Bills            1259\n",
       "Buy House                 758\n",
       "Take a Trip               622\n",
       "major_purchase            407\n",
       "small_business            318\n",
       "moving                    167\n",
       "wedding                   126\n",
       "Educational Expenses      114\n",
       "vacation                  107\n",
       "renewable_energy           11\n",
       "Name: Purpose, dtype: int64"
      ]
     },
     "execution_count": 215,
     "metadata": {},
     "output_type": "execute_result"
    }
   ],
   "source": [
    "loan['Purpose'].value_counts()"
   ]
  },
  {
   "cell_type": "code",
   "execution_count": 216,
   "id": "61574541",
   "metadata": {},
   "outputs": [],
   "source": [
    "# replacing the instances of 'Other' with 'other'\n",
    "loan['Purpose'].replace({'Other':'other'},inplace=True)"
   ]
  },
  {
   "cell_type": "code",
   "execution_count": 217,
   "id": "88d089a4",
   "metadata": {},
   "outputs": [
    {
     "data": {
      "text/plain": [
       "15"
      ]
     },
     "execution_count": 217,
     "metadata": {},
     "output_type": "execute_result"
    }
   ],
   "source": [
    "# Checking for the replacement made\n",
    "loan['Purpose'].nunique()"
   ]
  },
  {
   "cell_type": "markdown",
   "id": "8fdfeb43",
   "metadata": {},
   "source": [
    "#### Monthly Debt"
   ]
  },
  {
   "cell_type": "markdown",
   "id": "1e75997e",
   "metadata": {},
   "source": [
    "The monthly debt column had values of object type. But when we tried to convert into 'float' type we encounterd an error due to the presence of '\\\\$' symbol. Hence we are removing every instance containing the '$' symbol with a blank character to enable type conversion into integer."
   ]
  },
  {
   "cell_type": "code",
   "execution_count": 218,
   "id": "d2f57177",
   "metadata": {},
   "outputs": [
    {
     "data": {
      "text/plain": [
       "0          777.39\n",
       "1          892.09\n",
       "2         1244.02\n",
       "3          990.94\n",
       "4          503.71\n",
       "           ...   \n",
       "111102     889.69\n",
       "111103      700.9\n",
       "111104    1210.59\n",
       "111105     1476.3\n",
       "111106     668.71\n",
       "Name: Monthly Debt, Length: 111107, dtype: object"
      ]
     },
     "execution_count": 218,
     "metadata": {},
     "output_type": "execute_result"
    }
   ],
   "source": [
    "# Note: The datatype of the values are of object type\n",
    "loan['Monthly Debt']"
   ]
  },
  {
   "cell_type": "code",
   "execution_count": 219,
   "id": "e4aa03d2",
   "metadata": {},
   "outputs": [],
   "source": [
    "# Type conversion into integer\n",
    "loan['Monthly Debt'].replace({'\\$':''},regex=True,inplace=True)"
   ]
  },
  {
   "cell_type": "code",
   "execution_count": 220,
   "id": "46e47e1f",
   "metadata": {
    "scrolled": true
   },
   "outputs": [
    {
     "data": {
      "text/plain": [
       "0          777.39\n",
       "1          892.09\n",
       "2         1244.02\n",
       "3          990.94\n",
       "4          503.71\n",
       "           ...   \n",
       "111102     889.69\n",
       "111103     700.90\n",
       "111104    1210.59\n",
       "111105    1476.30\n",
       "111106     668.71\n",
       "Name: Monthly Debt, Length: 111107, dtype: float64"
      ]
     },
     "execution_count": 220,
     "metadata": {},
     "output_type": "execute_result"
    }
   ],
   "source": [
    "# Note: The datatype of the values are of float type\n",
    "loan['Monthly Debt'].astype('float')"
   ]
  },
  {
   "cell_type": "markdown",
   "id": "53cf8ac1",
   "metadata": {},
   "source": [
    "#### 'Years of Credit History'"
   ]
  },
  {
   "cell_type": "code",
   "execution_count": 221,
   "id": "3d8ffdb9",
   "metadata": {},
   "outputs": [
    {
     "data": {
      "text/plain": [
       "count    111107.000000\n",
       "mean         18.201003\n",
       "std           7.014495\n",
       "min           3.600000\n",
       "25%          13.500000\n",
       "50%          16.900000\n",
       "75%          21.700000\n",
       "max          70.500000\n",
       "Name: Years of Credit History, dtype: float64"
      ]
     },
     "execution_count": 221,
     "metadata": {},
     "output_type": "execute_result"
    }
   ],
   "source": [
    "loan['Years of Credit History'].describe()"
   ]
  },
  {
   "cell_type": "code",
   "execution_count": 222,
   "id": "2b265192",
   "metadata": {},
   "outputs": [
    {
     "data": {
      "text/plain": [
       "70.5    1\n",
       "65.0    2\n",
       "62.5    1\n",
       "60.5    2\n",
       "59.9    1\n",
       "       ..\n",
       "4.0     7\n",
       "3.9     4\n",
       "3.8     4\n",
       "3.7     2\n",
       "3.6     1\n",
       "Name: Years of Credit History, Length: 508, dtype: int64"
      ]
     },
     "execution_count": 222,
     "metadata": {},
     "output_type": "execute_result"
    }
   ],
   "source": [
    "# Note : There's 1 particular customer with around 70 years of credit history\n",
    "loan['Years of Credit History'].value_counts().sort_index(ascending=False)"
   ]
  },
  {
   "cell_type": "code",
   "execution_count": 223,
   "id": "1e1b0db1",
   "metadata": {},
   "outputs": [
    {
     "data": {
      "text/plain": [
       "12.0     1002\n",
       "13.0      999\n",
       "15.0      987\n",
       "14.0      958\n",
       "8.0       955\n",
       "         ... \n",
       "139.0       1\n",
       "130.0       1\n",
       "115.0       1\n",
       "141.0       1\n",
       "143.0       1\n",
       "Name: Months since last delinquent, Length: 116, dtype: int64"
      ]
     },
     "execution_count": 223,
     "metadata": {},
     "output_type": "execute_result"
    }
   ],
   "source": [
    "loan['Months since last delinquent'].value_counts()"
   ]
  },
  {
   "cell_type": "markdown",
   "id": "1e7cb80d",
   "metadata": {},
   "source": [
    "#### Number of Open Accounts"
   ]
  },
  {
   "cell_type": "code",
   "execution_count": 224,
   "id": "337c0b74",
   "metadata": {},
   "outputs": [
    {
     "data": {
      "text/plain": [
       "0         2\n",
       "1        27\n",
       "2       483\n",
       "3      1504\n",
       "4      3176\n",
       "5      5246\n",
       "6      7523\n",
       "7      9057\n",
       "8      9803\n",
       "9     10350\n",
       "10    10075\n",
       "11     9547\n",
       "12     8235\n",
       "13     6899\n",
       "14     5766\n",
       "15     4739\n",
       "16     3916\n",
       "17     3186\n",
       "18     2466\n",
       "19     2094\n",
       "20     1576\n",
       "21     1218\n",
       "22      933\n",
       "23      764\n",
       "24      612\n",
       "25      458\n",
       "26      309\n",
       "27      288\n",
       "28      181\n",
       "29      135\n",
       "30      122\n",
       "31       84\n",
       "32       70\n",
       "33       60\n",
       "34       42\n",
       "35       27\n",
       "36       29\n",
       "37       18\n",
       "38       14\n",
       "39       10\n",
       "40       10\n",
       "41        8\n",
       "42        6\n",
       "43       12\n",
       "44        5\n",
       "45        6\n",
       "47        5\n",
       "48        4\n",
       "52        2\n",
       "55        1\n",
       "56        2\n",
       "76        2\n",
       "Name: Number of Open Accounts, dtype: int64"
      ]
     },
     "execution_count": 224,
     "metadata": {},
     "output_type": "execute_result"
    }
   ],
   "source": [
    "loan['Number of Open Accounts'].value_counts().sort_index(ascending=True)"
   ]
  },
  {
   "cell_type": "markdown",
   "id": "cd61ad30",
   "metadata": {},
   "source": [
    "#### Number of Credit Problems"
   ]
  },
  {
   "cell_type": "code",
   "execution_count": 225,
   "id": "352e3981",
   "metadata": {},
   "outputs": [
    {
     "data": {
      "text/plain": [
       "0     95642\n",
       "1     13366\n",
       "2      1444\n",
       "3       418\n",
       "4       135\n",
       "5        59\n",
       "6        19\n",
       "7         8\n",
       "8         4\n",
       "9         5\n",
       "10        3\n",
       "11        2\n",
       "12        1\n",
       "15        1\n",
       "Name: Number of Credit Problems, dtype: int64"
      ]
     },
     "execution_count": 225,
     "metadata": {},
     "output_type": "execute_result"
    }
   ],
   "source": [
    "loan['Number of Credit Problems'].value_counts().sort_index(ascending=True)"
   ]
  },
  {
   "cell_type": "code",
   "execution_count": 226,
   "id": "238bf312",
   "metadata": {},
   "outputs": [
    {
     "data": {
      "text/html": [
       "<div>\n",
       "<style scoped>\n",
       "    .dataframe tbody tr th:only-of-type {\n",
       "        vertical-align: middle;\n",
       "    }\n",
       "\n",
       "    .dataframe tbody tr th {\n",
       "        vertical-align: top;\n",
       "    }\n",
       "\n",
       "    .dataframe thead th {\n",
       "        text-align: right;\n",
       "    }\n",
       "</style>\n",
       "<table border=\"1\" class=\"dataframe\">\n",
       "  <thead>\n",
       "    <tr style=\"text-align: right;\">\n",
       "      <th></th>\n",
       "      <th>Loan ID</th>\n",
       "      <th>Customer ID</th>\n",
       "      <th>Loan Status</th>\n",
       "      <th>Current Loan Amount</th>\n",
       "      <th>Term</th>\n",
       "      <th>Credit Score</th>\n",
       "      <th>Years in current job</th>\n",
       "      <th>Home Ownership</th>\n",
       "      <th>Annual Income</th>\n",
       "      <th>Purpose</th>\n",
       "      <th>Monthly Debt</th>\n",
       "      <th>Years of Credit History</th>\n",
       "      <th>Months since last delinquent</th>\n",
       "      <th>Number of Open Accounts</th>\n",
       "      <th>Number of Credit Problems</th>\n",
       "      <th>Current Credit Balance</th>\n",
       "      <th>Maximum Open Credit</th>\n",
       "      <th>Bankruptcies</th>\n",
       "      <th>Tax Liens</th>\n",
       "    </tr>\n",
       "  </thead>\n",
       "  <tbody>\n",
       "    <tr>\n",
       "      <th>0</th>\n",
       "      <td>6cf51492-02a2-423e-b93d-676f05b9ad53</td>\n",
       "      <td>7c202b37-2add-44e8-9aea-d5b119aea935</td>\n",
       "      <td>Charged Off</td>\n",
       "      <td>12232</td>\n",
       "      <td>Short Term</td>\n",
       "      <td>728.0</td>\n",
       "      <td>&lt; 1 year</td>\n",
       "      <td>Rent</td>\n",
       "      <td>46643.0</td>\n",
       "      <td>Debt Consolidation</td>\n",
       "      <td>777.39</td>\n",
       "      <td>18.0</td>\n",
       "      <td>10.0</td>\n",
       "      <td>12</td>\n",
       "      <td>0</td>\n",
       "      <td>6762</td>\n",
       "      <td>7946</td>\n",
       "      <td>0.0</td>\n",
       "      <td>0.0</td>\n",
       "    </tr>\n",
       "    <tr>\n",
       "      <th>1</th>\n",
       "      <td>552e7ade-4292-4354-9ff9-c48031697d72</td>\n",
       "      <td>e7217b0a-07ac-47dd-b379-577b5a35b7c6</td>\n",
       "      <td>Charged Off</td>\n",
       "      <td>25014</td>\n",
       "      <td>Long Term</td>\n",
       "      <td>733.0</td>\n",
       "      <td>10+ years</td>\n",
       "      <td>Home Mortgage</td>\n",
       "      <td>81099.0</td>\n",
       "      <td>Debt Consolidation</td>\n",
       "      <td>892.09</td>\n",
       "      <td>26.7</td>\n",
       "      <td>NaN</td>\n",
       "      <td>14</td>\n",
       "      <td>0</td>\n",
       "      <td>35706</td>\n",
       "      <td>77961</td>\n",
       "      <td>0.0</td>\n",
       "      <td>0.0</td>\n",
       "    </tr>\n",
       "    <tr>\n",
       "      <th>2</th>\n",
       "      <td>9b5e32b3-8d76-4801-afc8-d729d5a2e6b9</td>\n",
       "      <td>0a62fc41-16c8-40b5-92ff-9e4b763ce714</td>\n",
       "      <td>Charged Off</td>\n",
       "      <td>16117</td>\n",
       "      <td>Short Term</td>\n",
       "      <td>724.0</td>\n",
       "      <td>9 years</td>\n",
       "      <td>Home Mortgage</td>\n",
       "      <td>60438.0</td>\n",
       "      <td>Home Improvements</td>\n",
       "      <td>1244.02</td>\n",
       "      <td>16.7</td>\n",
       "      <td>32.0</td>\n",
       "      <td>11</td>\n",
       "      <td>1</td>\n",
       "      <td>11275</td>\n",
       "      <td>14815</td>\n",
       "      <td>1.0</td>\n",
       "      <td>0.0</td>\n",
       "    </tr>\n",
       "    <tr>\n",
       "      <th>3</th>\n",
       "      <td>5419b7c7-ac11-4be2-a8a7-b131fb6d6dbe</td>\n",
       "      <td>30f36c59-5182-4482-8bbb-5b736849ae43</td>\n",
       "      <td>Charged Off</td>\n",
       "      <td>11716</td>\n",
       "      <td>Short Term</td>\n",
       "      <td>740.0</td>\n",
       "      <td>3 years</td>\n",
       "      <td>Rent</td>\n",
       "      <td>34171.0</td>\n",
       "      <td>Debt Consolidation</td>\n",
       "      <td>990.94</td>\n",
       "      <td>10.0</td>\n",
       "      <td>NaN</td>\n",
       "      <td>21</td>\n",
       "      <td>0</td>\n",
       "      <td>7009</td>\n",
       "      <td>43533</td>\n",
       "      <td>0.0</td>\n",
       "      <td>0.0</td>\n",
       "    </tr>\n",
       "    <tr>\n",
       "      <th>4</th>\n",
       "      <td>1450910f-9495-4fc9-afaf-9bdf4b9821df</td>\n",
       "      <td>70c26012-bba5-42c0-8dcb-75295ada31bb</td>\n",
       "      <td>Charged Off</td>\n",
       "      <td>9789</td>\n",
       "      <td>Long Term</td>\n",
       "      <td>686.0</td>\n",
       "      <td>10+ years</td>\n",
       "      <td>Home Mortgage</td>\n",
       "      <td>47003.0</td>\n",
       "      <td>Home Improvements</td>\n",
       "      <td>503.71</td>\n",
       "      <td>16.7</td>\n",
       "      <td>25.0</td>\n",
       "      <td>13</td>\n",
       "      <td>1</td>\n",
       "      <td>16913</td>\n",
       "      <td>19553</td>\n",
       "      <td>1.0</td>\n",
       "      <td>0.0</td>\n",
       "    </tr>\n",
       "  </tbody>\n",
       "</table>\n",
       "</div>"
      ],
      "text/plain": [
       "                                Loan ID                           Customer ID  \\\n",
       "0  6cf51492-02a2-423e-b93d-676f05b9ad53  7c202b37-2add-44e8-9aea-d5b119aea935   \n",
       "1  552e7ade-4292-4354-9ff9-c48031697d72  e7217b0a-07ac-47dd-b379-577b5a35b7c6   \n",
       "2  9b5e32b3-8d76-4801-afc8-d729d5a2e6b9  0a62fc41-16c8-40b5-92ff-9e4b763ce714   \n",
       "3  5419b7c7-ac11-4be2-a8a7-b131fb6d6dbe  30f36c59-5182-4482-8bbb-5b736849ae43   \n",
       "4  1450910f-9495-4fc9-afaf-9bdf4b9821df  70c26012-bba5-42c0-8dcb-75295ada31bb   \n",
       "\n",
       "   Loan Status  Current Loan Amount        Term  Credit Score  \\\n",
       "0  Charged Off                12232  Short Term         728.0   \n",
       "1  Charged Off                25014   Long Term         733.0   \n",
       "2  Charged Off                16117  Short Term         724.0   \n",
       "3  Charged Off                11716  Short Term         740.0   \n",
       "4  Charged Off                 9789   Long Term         686.0   \n",
       "\n",
       "  Years in current job Home Ownership  Annual Income             Purpose  \\\n",
       "0             < 1 year           Rent        46643.0  Debt Consolidation   \n",
       "1            10+ years  Home Mortgage        81099.0  Debt Consolidation   \n",
       "2              9 years  Home Mortgage        60438.0   Home Improvements   \n",
       "3              3 years           Rent        34171.0  Debt Consolidation   \n",
       "4            10+ years  Home Mortgage        47003.0   Home Improvements   \n",
       "\n",
       "  Monthly Debt  Years of Credit History  Months since last delinquent  \\\n",
       "0       777.39                     18.0                          10.0   \n",
       "1       892.09                     26.7                           NaN   \n",
       "2      1244.02                     16.7                          32.0   \n",
       "3       990.94                     10.0                           NaN   \n",
       "4       503.71                     16.7                          25.0   \n",
       "\n",
       "   Number of Open Accounts  Number of Credit Problems  Current Credit Balance  \\\n",
       "0                       12                          0                    6762   \n",
       "1                       14                          0                   35706   \n",
       "2                       11                          1                   11275   \n",
       "3                       21                          0                    7009   \n",
       "4                       13                          1                   16913   \n",
       "\n",
       "  Maximum Open Credit  Bankruptcies  Tax Liens  \n",
       "0                7946           0.0        0.0  \n",
       "1               77961           0.0        0.0  \n",
       "2               14815           1.0        0.0  \n",
       "3               43533           0.0        0.0  \n",
       "4               19553           1.0        0.0  "
      ]
     },
     "execution_count": 226,
     "metadata": {},
     "output_type": "execute_result"
    }
   ],
   "source": [
    "loan.head()"
   ]
  },
  {
   "cell_type": "markdown",
   "id": "65718b7e",
   "metadata": {},
   "source": [
    "#### Current Credit Balance"
   ]
  },
  {
   "cell_type": "code",
   "execution_count": 227,
   "id": "3b3dba41",
   "metadata": {},
   "outputs": [
    {
     "data": {
      "text/plain": [
       "count    1.111070e+05\n",
       "mean     1.548314e+04\n",
       "std      1.982115e+04\n",
       "min      0.000000e+00\n",
       "25%      5.905000e+03\n",
       "50%      1.102700e+04\n",
       "75%      1.933800e+04\n",
       "max      1.730472e+06\n",
       "Name: Current Credit Balance, dtype: float64"
      ]
     },
     "execution_count": 227,
     "metadata": {},
     "output_type": "execute_result"
    }
   ],
   "source": [
    "loan['Current Credit Balance'].describe()"
   ]
  },
  {
   "cell_type": "markdown",
   "id": "fdee2357",
   "metadata": {},
   "source": [
    "#### Maximum Open Credit"
   ]
  },
  {
   "cell_type": "code",
   "execution_count": 228,
   "id": "9640048f",
   "metadata": {},
   "outputs": [
    {
     "data": {
      "text/plain": [
       "0         450\n",
       "0         302\n",
       "14168       9\n",
       "15847       9\n",
       "17464       9\n",
       "         ... \n",
       "38266       1\n",
       "69018       1\n",
       "16924       1\n",
       "102416      1\n",
       "10634       1\n",
       "Name: Maximum Open Credit, Length: 67309, dtype: int64"
      ]
     },
     "execution_count": 228,
     "metadata": {},
     "output_type": "execute_result"
    }
   ],
   "source": [
    "loan['Maximum Open Credit'].value_counts()"
   ]
  },
  {
   "cell_type": "code",
   "execution_count": 229,
   "id": "91404476",
   "metadata": {},
   "outputs": [
    {
     "data": {
      "text/plain": [
       "302"
      ]
     },
     "execution_count": 229,
     "metadata": {},
     "output_type": "execute_result"
    }
   ],
   "source": [
    "(loan['Maximum Open Credit']==0).sum()"
   ]
  },
  {
   "cell_type": "code",
   "execution_count": 230,
   "id": "13264a69",
   "metadata": {},
   "outputs": [
    {
     "data": {
      "text/plain": [
       "450"
      ]
     },
     "execution_count": 230,
     "metadata": {},
     "output_type": "execute_result"
    }
   ],
   "source": [
    "(loan['Maximum Open Credit']=='0').sum()"
   ]
  },
  {
   "cell_type": "markdown",
   "id": "4729a20c",
   "metadata": {},
   "source": [
    "We observe that there are zeros in the column with string as well as integer datatype. So we're converting all the values of this variable into numeric."
   ]
  },
  {
   "cell_type": "code",
   "execution_count": 231,
   "id": "ab89a520",
   "metadata": {},
   "outputs": [],
   "source": [
    "loan['Maximum Open Credit'] = pd.to_numeric(loan['Maximum Open Credit'],errors='coerce')"
   ]
  },
  {
   "cell_type": "markdown",
   "id": "e3c09804",
   "metadata": {},
   "source": [
    "#### Can also be done using the following code\n",
    "loan['Maximum Open Credit'].apply(lambda x: float(x) if type(x)==str() else x,inplace=True)"
   ]
  },
  {
   "cell_type": "code",
   "execution_count": 232,
   "id": "2fa78c91",
   "metadata": {},
   "outputs": [
    {
     "data": {
      "text/plain": [
       "0.0           752\n",
       "197.0           4\n",
       "202.0           1\n",
       "245.0           2\n",
       "293.0           5\n",
       "             ... \n",
       "28748988.0      1\n",
       "36284335.0      1\n",
       "44559330.0      1\n",
       "59305735.0      1\n",
       "69988086.0      1\n",
       "Name: Maximum Open Credit, Length: 46624, dtype: int64"
      ]
     },
     "execution_count": 232,
     "metadata": {},
     "output_type": "execute_result"
    }
   ],
   "source": [
    "loan['Maximum Open Credit'].value_counts().sort_index()"
   ]
  },
  {
   "cell_type": "code",
   "execution_count": 233,
   "id": "ab5cfbb7",
   "metadata": {},
   "outputs": [
    {
     "data": {
      "text/plain": [
       "Index(['Loan ID', 'Customer ID', 'Loan Status', 'Current Loan Amount', 'Term',\n",
       "       'Credit Score', 'Years in current job', 'Home Ownership',\n",
       "       'Annual Income', 'Purpose', 'Monthly Debt', 'Years of Credit History',\n",
       "       'Months since last delinquent', 'Number of Open Accounts',\n",
       "       'Number of Credit Problems', 'Current Credit Balance',\n",
       "       'Maximum Open Credit', 'Bankruptcies', 'Tax Liens'],\n",
       "      dtype='object')"
      ]
     },
     "execution_count": 233,
     "metadata": {},
     "output_type": "execute_result"
    }
   ],
   "source": [
    "loan.columns"
   ]
  },
  {
   "cell_type": "code",
   "execution_count": 234,
   "id": "dc91b1cc",
   "metadata": {},
   "outputs": [
    {
     "data": {
      "text/plain": [
       "0.0    98878\n",
       "1.0    11613\n",
       "2.0      468\n",
       "3.0      110\n",
       "4.0       27\n",
       "5.0        8\n",
       "6.0        2\n",
       "7.0        1\n",
       "Name: Bankruptcies, dtype: int64"
      ]
     },
     "execution_count": 234,
     "metadata": {},
     "output_type": "execute_result"
    }
   ],
   "source": [
    "loan['Bankruptcies'].value_counts().sort_index()"
   ]
  },
  {
   "cell_type": "code",
   "execution_count": 235,
   "id": "39a5e527",
   "metadata": {},
   "outputs": [
    {
     "data": {
      "text/plain": [
       "0.0     108975\n",
       "1.0       1485\n",
       "2.0        408\n",
       "3.0        124\n",
       "4.0         66\n",
       "5.0         19\n",
       "6.0         12\n",
       "7.0          7\n",
       "8.0          2\n",
       "9.0          5\n",
       "10.0         1\n",
       "11.0         2\n",
       "15.0         1\n",
       "Name: Tax Liens, dtype: int64"
      ]
     },
     "execution_count": 235,
     "metadata": {},
     "output_type": "execute_result"
    }
   ],
   "source": [
    "loan['Tax Liens'].value_counts().sort_index()"
   ]
  },
  {
   "cell_type": "code",
   "execution_count": 236,
   "id": "ed21cefc",
   "metadata": {},
   "outputs": [],
   "source": [
    "# conveting the monthly debt column from object data type to numeric data type\n",
    "loan['Monthly Debt'] = pd.to_numeric(loan['Monthly Debt'])"
   ]
  },
  {
   "cell_type": "code",
   "execution_count": 237,
   "id": "a81fcd8c",
   "metadata": {},
   "outputs": [
    {
     "data": {
      "text/plain": [
       "Loan ID                          0.000000\n",
       "Customer ID                      0.000000\n",
       "Loan Status                      0.000000\n",
       "Current Loan Amount              0.000000\n",
       "Term                             0.000000\n",
       "Credit Score                    19.204911\n",
       "Years in current job             0.000000\n",
       "Home Ownership                   0.000000\n",
       "Annual Income                   19.204911\n",
       "Purpose                          0.000000\n",
       "Monthly Debt                     0.000000\n",
       "Years of Credit History          0.000000\n",
       "Months since last delinquent    53.104665\n",
       "Number of Open Accounts          0.000000\n",
       "Number of Credit Problems        0.000000\n",
       "Current Credit Balance           0.000000\n",
       "Maximum Open Credit              0.001800\n",
       "Bankruptcies                     0.000000\n",
       "Tax Liens                        0.000000\n",
       "dtype: float64"
      ]
     },
     "execution_count": 237,
     "metadata": {},
     "output_type": "execute_result"
    }
   ],
   "source": [
    "loan.isnull().sum() * 100 / len(loan)"
   ]
  },
  {
   "cell_type": "markdown",
   "id": "005ffbe8",
   "metadata": {},
   "source": [
    "#### Imputing missing values in numerical columns"
   ]
  },
  {
   "cell_type": "code",
   "execution_count": 238,
   "id": "18a7eb79",
   "metadata": {},
   "outputs": [],
   "source": [
    "# Imputing missing values in Credit Score column\n",
    "fully_paid = loan[loan['Loan Status']=='Fully Paid']['Credit Score']\n",
    "charged_off = loan[loan['Loan Status']=='Charged Off']['Credit Score']\n",
    "fully_paid.fillna(value=fully_paid.median(),inplace=True)\n",
    "charged_off.fillna(value=charged_off.median(),inplace=True)"
   ]
  },
  {
   "cell_type": "code",
   "execution_count": 239,
   "id": "6823c13a",
   "metadata": {},
   "outputs": [
    {
     "data": {
      "text/plain": [
       "0"
      ]
     },
     "execution_count": 239,
     "metadata": {},
     "output_type": "execute_result"
    }
   ],
   "source": [
    "loan['Credit Score'][loan['Loan Status']=='Fully Paid'] = fully_paid\n",
    "\n",
    "loan['Credit Score'][loan['Loan Status']=='Charged Off'] = charged_off\n",
    "\n",
    "loan['Credit Score'].isnull().sum()"
   ]
  },
  {
   "cell_type": "code",
   "execution_count": 240,
   "id": "3a850d09",
   "metadata": {},
   "outputs": [],
   "source": [
    "fully_paid = loan[loan['Loan Status']=='Fully Paid']['Annual Income']\n",
    "charged_off = loan[loan['Loan Status']=='Charged Off']['Annual Income']\n",
    "fully_paid.fillna(value=fully_paid.median(),inplace=True)\n",
    "charged_off.fillna(value=charged_off.median(),inplace=True)"
   ]
  },
  {
   "cell_type": "code",
   "execution_count": 241,
   "id": "56832eba",
   "metadata": {},
   "outputs": [
    {
     "data": {
      "text/plain": [
       "0"
      ]
     },
     "execution_count": 241,
     "metadata": {},
     "output_type": "execute_result"
    }
   ],
   "source": [
    "loan['Annual Income'][loan['Loan Status']=='Fully Paid'] = fully_paid\n",
    "\n",
    "loan['Annual Income'][loan['Loan Status']=='Charged Off'] = charged_off\n",
    "\n",
    "loan['Annual Income'].isnull().sum()"
   ]
  },
  {
   "cell_type": "code",
   "execution_count": 242,
   "id": "f97d842c",
   "metadata": {},
   "outputs": [],
   "source": [
    "fully_paid = loan[loan['Loan Status']=='Fully Paid']['Months since last delinquent']\n",
    "charged_off = loan[loan['Loan Status']=='Charged Off']['Months since last delinquent']\n",
    "fully_paid.fillna(value=fully_paid.median(),inplace=True)\n",
    "charged_off.fillna(value=charged_off.median(),inplace=True)"
   ]
  },
  {
   "cell_type": "code",
   "execution_count": 243,
   "id": "b3194dbc",
   "metadata": {},
   "outputs": [
    {
     "data": {
      "text/plain": [
       "0"
      ]
     },
     "execution_count": 243,
     "metadata": {},
     "output_type": "execute_result"
    }
   ],
   "source": [
    "loan['Months since last delinquent'][loan['Loan Status']=='Fully Paid'] = fully_paid\n",
    "\n",
    "loan['Months since last delinquent'][loan['Loan Status']=='Charged Off'] = charged_off\n",
    "\n",
    "loan['Months since last delinquent'].isnull().sum()"
   ]
  },
  {
   "cell_type": "code",
   "execution_count": 244,
   "id": "1504a5d2",
   "metadata": {},
   "outputs": [
    {
     "data": {
      "text/plain": [
       "Loan ID                         0.0000\n",
       "Customer ID                     0.0000\n",
       "Loan Status                     0.0000\n",
       "Current Loan Amount             0.0000\n",
       "Term                            0.0000\n",
       "Credit Score                    0.0000\n",
       "Years in current job            0.0000\n",
       "Home Ownership                  0.0000\n",
       "Annual Income                   0.0000\n",
       "Purpose                         0.0000\n",
       "Monthly Debt                    0.0000\n",
       "Years of Credit History         0.0000\n",
       "Months since last delinquent    0.0000\n",
       "Number of Open Accounts         0.0000\n",
       "Number of Credit Problems       0.0000\n",
       "Current Credit Balance          0.0000\n",
       "Maximum Open Credit             0.0018\n",
       "Bankruptcies                    0.0000\n",
       "Tax Liens                       0.0000\n",
       "dtype: float64"
      ]
     },
     "execution_count": 244,
     "metadata": {},
     "output_type": "execute_result"
    }
   ],
   "source": [
    "loan.isnull().sum() *100 / len(loan)"
   ]
  },
  {
   "cell_type": "code",
   "execution_count": 245,
   "id": "9423b851",
   "metadata": {},
   "outputs": [
    {
     "data": {
      "text/html": [
       "<div>\n",
       "<style scoped>\n",
       "    .dataframe tbody tr th:only-of-type {\n",
       "        vertical-align: middle;\n",
       "    }\n",
       "\n",
       "    .dataframe tbody tr th {\n",
       "        vertical-align: top;\n",
       "    }\n",
       "\n",
       "    .dataframe thead th {\n",
       "        text-align: right;\n",
       "    }\n",
       "</style>\n",
       "<table border=\"1\" class=\"dataframe\">\n",
       "  <thead>\n",
       "    <tr style=\"text-align: right;\">\n",
       "      <th></th>\n",
       "      <th>Loan ID</th>\n",
       "      <th>Customer ID</th>\n",
       "      <th>Loan Status</th>\n",
       "      <th>Current Loan Amount</th>\n",
       "      <th>Term</th>\n",
       "      <th>Credit Score</th>\n",
       "      <th>Years in current job</th>\n",
       "      <th>Home Ownership</th>\n",
       "      <th>Annual Income</th>\n",
       "      <th>Purpose</th>\n",
       "      <th>Monthly Debt</th>\n",
       "      <th>Years of Credit History</th>\n",
       "      <th>Months since last delinquent</th>\n",
       "      <th>Number of Open Accounts</th>\n",
       "      <th>Number of Credit Problems</th>\n",
       "      <th>Current Credit Balance</th>\n",
       "      <th>Maximum Open Credit</th>\n",
       "      <th>Bankruptcies</th>\n",
       "      <th>Tax Liens</th>\n",
       "    </tr>\n",
       "  </thead>\n",
       "  <tbody>\n",
       "    <tr>\n",
       "      <th>4930</th>\n",
       "      <td>e42ae1f7-74b5-46d7-95ce-46a88918ba12</td>\n",
       "      <td>a679ed55-963a-4de6-8be0-4364eb601b6f</td>\n",
       "      <td>Charged Off</td>\n",
       "      <td>2052</td>\n",
       "      <td>Short Term</td>\n",
       "      <td>703.0</td>\n",
       "      <td>10+ years</td>\n",
       "      <td>Rent</td>\n",
       "      <td>95105.0</td>\n",
       "      <td>Debt Consolidation</td>\n",
       "      <td>1910.02</td>\n",
       "      <td>22.4</td>\n",
       "      <td>37.0</td>\n",
       "      <td>9</td>\n",
       "      <td>0</td>\n",
       "      <td>0</td>\n",
       "      <td>NaN</td>\n",
       "      <td>0.0</td>\n",
       "      <td>0.0</td>\n",
       "    </tr>\n",
       "    <tr>\n",
       "      <th>37357</th>\n",
       "      <td>b798f46b-e27b-4823-af83-294b1ffc3490</td>\n",
       "      <td>f61890c5-e264-4b0f-a047-9cfa03b9d182</td>\n",
       "      <td>Charged Off</td>\n",
       "      <td>1470</td>\n",
       "      <td>Short Term</td>\n",
       "      <td>719.0</td>\n",
       "      <td>2 years</td>\n",
       "      <td>Rent</td>\n",
       "      <td>57109.0</td>\n",
       "      <td>Debt Consolidation</td>\n",
       "      <td>506.34</td>\n",
       "      <td>15.3</td>\n",
       "      <td>26.0</td>\n",
       "      <td>3</td>\n",
       "      <td>0</td>\n",
       "      <td>0</td>\n",
       "      <td>NaN</td>\n",
       "      <td>0.0</td>\n",
       "      <td>0.0</td>\n",
       "    </tr>\n",
       "  </tbody>\n",
       "</table>\n",
       "</div>"
      ],
      "text/plain": [
       "                                    Loan ID  \\\n",
       "4930   e42ae1f7-74b5-46d7-95ce-46a88918ba12   \n",
       "37357  b798f46b-e27b-4823-af83-294b1ffc3490   \n",
       "\n",
       "                                Customer ID  Loan Status  Current Loan Amount  \\\n",
       "4930   a679ed55-963a-4de6-8be0-4364eb601b6f  Charged Off                 2052   \n",
       "37357  f61890c5-e264-4b0f-a047-9cfa03b9d182  Charged Off                 1470   \n",
       "\n",
       "             Term  Credit Score Years in current job Home Ownership  \\\n",
       "4930   Short Term         703.0            10+ years           Rent   \n",
       "37357  Short Term         719.0              2 years           Rent   \n",
       "\n",
       "       Annual Income             Purpose  Monthly Debt  \\\n",
       "4930         95105.0  Debt Consolidation       1910.02   \n",
       "37357        57109.0  Debt Consolidation        506.34   \n",
       "\n",
       "       Years of Credit History  Months since last delinquent  \\\n",
       "4930                      22.4                          37.0   \n",
       "37357                     15.3                          26.0   \n",
       "\n",
       "       Number of Open Accounts  Number of Credit Problems  \\\n",
       "4930                         9                          0   \n",
       "37357                        3                          0   \n",
       "\n",
       "       Current Credit Balance  Maximum Open Credit  Bankruptcies  Tax Liens  \n",
       "4930                        0                  NaN           0.0        0.0  \n",
       "37357                       0                  NaN           0.0        0.0  "
      ]
     },
     "execution_count": 245,
     "metadata": {},
     "output_type": "execute_result"
    }
   ],
   "source": [
    "# Two observations with missing values in Maximum Open Credit column\n",
    "loan[loan['Maximum Open Credit'].isnull()]"
   ]
  },
  {
   "cell_type": "code",
   "execution_count": 246,
   "id": "555b7870",
   "metadata": {},
   "outputs": [],
   "source": [
    "# Dropping the two observations with missing values in Maximum Open Credit column\n",
    "loan.drop(index= list(loan[loan['Maximum Open Credit'].isnull()].index),inplace=True)"
   ]
  },
  {
   "cell_type": "markdown",
   "id": "52aef071",
   "metadata": {},
   "source": [
    "#### Checking for duplicate observations"
   ]
  },
  {
   "cell_type": "code",
   "execution_count": 247,
   "id": "b63204b5",
   "metadata": {},
   "outputs": [
    {
     "data": {
      "text/plain": [
       "22197"
      ]
     },
     "execution_count": 247,
     "metadata": {},
     "output_type": "execute_result"
    }
   ],
   "source": [
    "# Determining the number of duplicate observations corresponding to \n",
    "loan.shape[0]-loan['Loan ID'].nunique()"
   ]
  },
  {
   "cell_type": "code",
   "execution_count": 248,
   "id": "97421a09",
   "metadata": {},
   "outputs": [
    {
     "data": {
      "text/plain": [
       "22197"
      ]
     },
     "execution_count": 248,
     "metadata": {},
     "output_type": "execute_result"
    }
   ],
   "source": [
    "loan.duplicated('Loan ID').sum()"
   ]
  },
  {
   "cell_type": "code",
   "execution_count": 249,
   "id": "1a3881be",
   "metadata": {},
   "outputs": [],
   "source": [
    "# dropping the duplicate observations with respect to 'LOAN ID' column\n",
    "loan.drop_duplicates('Loan ID',inplace=True)"
   ]
  },
  {
   "cell_type": "code",
   "execution_count": 250,
   "id": "ba2736ce",
   "metadata": {},
   "outputs": [
    {
     "data": {
      "text/plain": [
       "0"
      ]
     },
     "execution_count": 250,
     "metadata": {},
     "output_type": "execute_result"
    }
   ],
   "source": [
    "# Cross-verifying the results of operation\n",
    "loan.shape[0]-loan['Loan ID'].nunique()"
   ]
  },
  {
   "cell_type": "markdown",
   "id": "8afe7f05",
   "metadata": {},
   "source": [
    "#### Balancing target classes using oversampling"
   ]
  },
  {
   "cell_type": "code",
   "execution_count": 163,
   "id": "b735e7b8",
   "metadata": {},
   "outputs": [
    {
     "name": "stdout",
     "output_type": "stream",
     "text": [
      "Requirement already satisfied: imbalanced-learn in c:\\users\\aswin\\anaconda3\\lib\\site-packages (0.10.1)\n",
      "Requirement already satisfied: numpy>=1.17.3 in c:\\users\\aswin\\anaconda3\\lib\\site-packages (from imbalanced-learn) (1.21.5)\n",
      "Requirement already satisfied: threadpoolctl>=2.0.0 in c:\\users\\aswin\\anaconda3\\lib\\site-packages (from imbalanced-learn) (2.2.0)\n",
      "Requirement already satisfied: joblib>=1.1.1 in c:\\users\\aswin\\anaconda3\\lib\\site-packages (from imbalanced-learn) (1.1.1)\n",
      "Requirement already satisfied: scikit-learn>=1.0.2 in c:\\users\\aswin\\anaconda3\\lib\\site-packages (from imbalanced-learn) (1.0.2)\n",
      "Requirement already satisfied: scipy>=1.3.2 in c:\\users\\aswin\\anaconda3\\lib\\site-packages (from imbalanced-learn) (1.9.3)\n",
      "Note: you may need to restart the kernel to use updated packages.\n"
     ]
    },
    {
     "name": "stderr",
     "output_type": "stream",
     "text": [
      "WARNING: Ignoring invalid distribution -atplotlib (c:\\users\\aswin\\anaconda3\\lib\\site-packages)\n",
      "WARNING: Ignoring invalid distribution -atplotlib (c:\\users\\aswin\\anaconda3\\lib\\site-packages)\n",
      "WARNING: Ignoring invalid distribution -atplotlib (c:\\users\\aswin\\anaconda3\\lib\\site-packages)\n",
      "WARNING: Ignoring invalid distribution -atplotlib (c:\\users\\aswin\\anaconda3\\lib\\site-packages)\n",
      "WARNING: Ignoring invalid distribution -atplotlib (c:\\users\\aswin\\anaconda3\\lib\\site-packages)\n",
      "WARNING: Ignoring invalid distribution -atplotlib (c:\\users\\aswin\\anaconda3\\lib\\site-packages)\n"
     ]
    }
   ],
   "source": [
    "pip install -U imbalanced-learn"
   ]
  },
  {
   "cell_type": "markdown",
   "id": "747b3315",
   "metadata": {},
   "source": [
    "While working with class imbalanced data we would be using stratified sampling to ensure that the test data has observations from the minority class as well"
   ]
  },
  {
   "cell_type": "markdown",
   "id": "cc8b6e59",
   "metadata": {},
   "source": [
    "train_test_split()"
   ]
  },
  {
   "cell_type": "code",
   "execution_count": 251,
   "id": "322fbe4c",
   "metadata": {},
   "outputs": [],
   "source": [
    "# Seggregating the features from the target variable\n",
    "X = loan.drop(['Loan Status','Loan ID','Customer ID'],axis=1)  # Dropping irrelevant features 'Loan ID' & 'Customer ID'\n",
    "y = loan['Loan Status'].map({'Charged Off':0,'Fully Paid':1})"
   ]
  },
  {
   "cell_type": "code",
   "execution_count": 252,
   "id": "36ccec9f",
   "metadata": {},
   "outputs": [
    {
     "data": {
      "text/html": [
       "<div>\n",
       "<style scoped>\n",
       "    .dataframe tbody tr th:only-of-type {\n",
       "        vertical-align: middle;\n",
       "    }\n",
       "\n",
       "    .dataframe tbody tr th {\n",
       "        vertical-align: top;\n",
       "    }\n",
       "\n",
       "    .dataframe thead th {\n",
       "        text-align: right;\n",
       "    }\n",
       "</style>\n",
       "<table border=\"1\" class=\"dataframe\">\n",
       "  <thead>\n",
       "    <tr style=\"text-align: right;\">\n",
       "      <th></th>\n",
       "      <th>Current Loan Amount</th>\n",
       "      <th>Term</th>\n",
       "      <th>Credit Score</th>\n",
       "      <th>Years in current job</th>\n",
       "      <th>Home Ownership</th>\n",
       "      <th>Annual Income</th>\n",
       "      <th>Purpose</th>\n",
       "      <th>Monthly Debt</th>\n",
       "      <th>Years of Credit History</th>\n",
       "      <th>Months since last delinquent</th>\n",
       "      <th>Number of Open Accounts</th>\n",
       "      <th>Number of Credit Problems</th>\n",
       "      <th>Current Credit Balance</th>\n",
       "      <th>Maximum Open Credit</th>\n",
       "      <th>Bankruptcies</th>\n",
       "      <th>Tax Liens</th>\n",
       "    </tr>\n",
       "  </thead>\n",
       "  <tbody>\n",
       "    <tr>\n",
       "      <th>0</th>\n",
       "      <td>12232</td>\n",
       "      <td>Short Term</td>\n",
       "      <td>728.0</td>\n",
       "      <td>&lt; 1 year</td>\n",
       "      <td>Rent</td>\n",
       "      <td>46643.0</td>\n",
       "      <td>Debt Consolidation</td>\n",
       "      <td>777.39</td>\n",
       "      <td>18.0</td>\n",
       "      <td>10.0</td>\n",
       "      <td>12</td>\n",
       "      <td>0</td>\n",
       "      <td>6762</td>\n",
       "      <td>7946.0</td>\n",
       "      <td>0.0</td>\n",
       "      <td>0.0</td>\n",
       "    </tr>\n",
       "    <tr>\n",
       "      <th>1</th>\n",
       "      <td>25014</td>\n",
       "      <td>Long Term</td>\n",
       "      <td>733.0</td>\n",
       "      <td>10+ years</td>\n",
       "      <td>Home Mortgage</td>\n",
       "      <td>81099.0</td>\n",
       "      <td>Debt Consolidation</td>\n",
       "      <td>892.09</td>\n",
       "      <td>26.7</td>\n",
       "      <td>31.0</td>\n",
       "      <td>14</td>\n",
       "      <td>0</td>\n",
       "      <td>35706</td>\n",
       "      <td>77961.0</td>\n",
       "      <td>0.0</td>\n",
       "      <td>0.0</td>\n",
       "    </tr>\n",
       "    <tr>\n",
       "      <th>2</th>\n",
       "      <td>16117</td>\n",
       "      <td>Short Term</td>\n",
       "      <td>724.0</td>\n",
       "      <td>9 years</td>\n",
       "      <td>Home Mortgage</td>\n",
       "      <td>60438.0</td>\n",
       "      <td>Home Improvements</td>\n",
       "      <td>1244.02</td>\n",
       "      <td>16.7</td>\n",
       "      <td>32.0</td>\n",
       "      <td>11</td>\n",
       "      <td>1</td>\n",
       "      <td>11275</td>\n",
       "      <td>14815.0</td>\n",
       "      <td>1.0</td>\n",
       "      <td>0.0</td>\n",
       "    </tr>\n",
       "    <tr>\n",
       "      <th>3</th>\n",
       "      <td>11716</td>\n",
       "      <td>Short Term</td>\n",
       "      <td>740.0</td>\n",
       "      <td>3 years</td>\n",
       "      <td>Rent</td>\n",
       "      <td>34171.0</td>\n",
       "      <td>Debt Consolidation</td>\n",
       "      <td>990.94</td>\n",
       "      <td>10.0</td>\n",
       "      <td>31.0</td>\n",
       "      <td>21</td>\n",
       "      <td>0</td>\n",
       "      <td>7009</td>\n",
       "      <td>43533.0</td>\n",
       "      <td>0.0</td>\n",
       "      <td>0.0</td>\n",
       "    </tr>\n",
       "    <tr>\n",
       "      <th>4</th>\n",
       "      <td>9789</td>\n",
       "      <td>Long Term</td>\n",
       "      <td>686.0</td>\n",
       "      <td>10+ years</td>\n",
       "      <td>Home Mortgage</td>\n",
       "      <td>47003.0</td>\n",
       "      <td>Home Improvements</td>\n",
       "      <td>503.71</td>\n",
       "      <td>16.7</td>\n",
       "      <td>25.0</td>\n",
       "      <td>13</td>\n",
       "      <td>1</td>\n",
       "      <td>16913</td>\n",
       "      <td>19553.0</td>\n",
       "      <td>1.0</td>\n",
       "      <td>0.0</td>\n",
       "    </tr>\n",
       "    <tr>\n",
       "      <th>...</th>\n",
       "      <td>...</td>\n",
       "      <td>...</td>\n",
       "      <td>...</td>\n",
       "      <td>...</td>\n",
       "      <td>...</td>\n",
       "      <td>...</td>\n",
       "      <td>...</td>\n",
       "      <td>...</td>\n",
       "      <td>...</td>\n",
       "      <td>...</td>\n",
       "      <td>...</td>\n",
       "      <td>...</td>\n",
       "      <td>...</td>\n",
       "      <td>...</td>\n",
       "      <td>...</td>\n",
       "      <td>...</td>\n",
       "    </tr>\n",
       "    <tr>\n",
       "      <th>88905</th>\n",
       "      <td>10136</td>\n",
       "      <td>Short Term</td>\n",
       "      <td>728.0</td>\n",
       "      <td>10+ years</td>\n",
       "      <td>Rent</td>\n",
       "      <td>35476.0</td>\n",
       "      <td>Debt Consolidation</td>\n",
       "      <td>567.62</td>\n",
       "      <td>21.2</td>\n",
       "      <td>14.0</td>\n",
       "      <td>14</td>\n",
       "      <td>0</td>\n",
       "      <td>15914</td>\n",
       "      <td>28265.0</td>\n",
       "      <td>0.0</td>\n",
       "      <td>0.0</td>\n",
       "    </tr>\n",
       "    <tr>\n",
       "      <th>88906</th>\n",
       "      <td>29610</td>\n",
       "      <td>Short Term</td>\n",
       "      <td>710.0</td>\n",
       "      <td>10+ years</td>\n",
       "      <td>Home Mortgage</td>\n",
       "      <td>123375.0</td>\n",
       "      <td>Debt Consolidation</td>\n",
       "      <td>2508.63</td>\n",
       "      <td>15.0</td>\n",
       "      <td>16.0</td>\n",
       "      <td>11</td>\n",
       "      <td>0</td>\n",
       "      <td>17727</td>\n",
       "      <td>32766.0</td>\n",
       "      <td>0.0</td>\n",
       "      <td>0.0</td>\n",
       "    </tr>\n",
       "    <tr>\n",
       "      <th>88907</th>\n",
       "      <td>24394</td>\n",
       "      <td>Short Term</td>\n",
       "      <td>746.0</td>\n",
       "      <td>10+ years</td>\n",
       "      <td>Home Mortgage</td>\n",
       "      <td>71148.0</td>\n",
       "      <td>Debt Consolidation</td>\n",
       "      <td>818.20</td>\n",
       "      <td>36.4</td>\n",
       "      <td>9.0</td>\n",
       "      <td>8</td>\n",
       "      <td>0</td>\n",
       "      <td>44728</td>\n",
       "      <td>53374.0</td>\n",
       "      <td>0.0</td>\n",
       "      <td>0.0</td>\n",
       "    </tr>\n",
       "    <tr>\n",
       "      <th>88908</th>\n",
       "      <td>5030</td>\n",
       "      <td>Short Term</td>\n",
       "      <td>722.0</td>\n",
       "      <td>10+ years</td>\n",
       "      <td>Rent</td>\n",
       "      <td>25424.0</td>\n",
       "      <td>Debt Consolidation</td>\n",
       "      <td>360.17</td>\n",
       "      <td>19.0</td>\n",
       "      <td>7.0</td>\n",
       "      <td>12</td>\n",
       "      <td>0</td>\n",
       "      <td>6374</td>\n",
       "      <td>18422.0</td>\n",
       "      <td>0.0</td>\n",
       "      <td>0.0</td>\n",
       "    </tr>\n",
       "    <tr>\n",
       "      <th>88909</th>\n",
       "      <td>18446</td>\n",
       "      <td>Short Term</td>\n",
       "      <td>718.0</td>\n",
       "      <td>6 years</td>\n",
       "      <td>Rent</td>\n",
       "      <td>44066.0</td>\n",
       "      <td>Debt Consolidation</td>\n",
       "      <td>749.13</td>\n",
       "      <td>10.7</td>\n",
       "      <td>32.0</td>\n",
       "      <td>18</td>\n",
       "      <td>1</td>\n",
       "      <td>6718</td>\n",
       "      <td>21124.0</td>\n",
       "      <td>0.0</td>\n",
       "      <td>1.0</td>\n",
       "    </tr>\n",
       "  </tbody>\n",
       "</table>\n",
       "<p>88908 rows × 16 columns</p>\n",
       "</div>"
      ],
      "text/plain": [
       "       Current Loan Amount        Term  Credit Score Years in current job  \\\n",
       "0                    12232  Short Term         728.0             < 1 year   \n",
       "1                    25014   Long Term         733.0            10+ years   \n",
       "2                    16117  Short Term         724.0              9 years   \n",
       "3                    11716  Short Term         740.0              3 years   \n",
       "4                     9789   Long Term         686.0            10+ years   \n",
       "...                    ...         ...           ...                  ...   \n",
       "88905                10136  Short Term         728.0            10+ years   \n",
       "88906                29610  Short Term         710.0            10+ years   \n",
       "88907                24394  Short Term         746.0            10+ years   \n",
       "88908                 5030  Short Term         722.0            10+ years   \n",
       "88909                18446  Short Term         718.0              6 years   \n",
       "\n",
       "      Home Ownership  Annual Income             Purpose  Monthly Debt  \\\n",
       "0               Rent        46643.0  Debt Consolidation        777.39   \n",
       "1      Home Mortgage        81099.0  Debt Consolidation        892.09   \n",
       "2      Home Mortgage        60438.0   Home Improvements       1244.02   \n",
       "3               Rent        34171.0  Debt Consolidation        990.94   \n",
       "4      Home Mortgage        47003.0   Home Improvements        503.71   \n",
       "...              ...            ...                 ...           ...   \n",
       "88905           Rent        35476.0  Debt Consolidation        567.62   \n",
       "88906  Home Mortgage       123375.0  Debt Consolidation       2508.63   \n",
       "88907  Home Mortgage        71148.0  Debt Consolidation        818.20   \n",
       "88908           Rent        25424.0  Debt Consolidation        360.17   \n",
       "88909           Rent        44066.0  Debt Consolidation        749.13   \n",
       "\n",
       "       Years of Credit History  Months since last delinquent  \\\n",
       "0                         18.0                          10.0   \n",
       "1                         26.7                          31.0   \n",
       "2                         16.7                          32.0   \n",
       "3                         10.0                          31.0   \n",
       "4                         16.7                          25.0   \n",
       "...                        ...                           ...   \n",
       "88905                     21.2                          14.0   \n",
       "88906                     15.0                          16.0   \n",
       "88907                     36.4                           9.0   \n",
       "88908                     19.0                           7.0   \n",
       "88909                     10.7                          32.0   \n",
       "\n",
       "       Number of Open Accounts  Number of Credit Problems  \\\n",
       "0                           12                          0   \n",
       "1                           14                          0   \n",
       "2                           11                          1   \n",
       "3                           21                          0   \n",
       "4                           13                          1   \n",
       "...                        ...                        ...   \n",
       "88905                       14                          0   \n",
       "88906                       11                          0   \n",
       "88907                        8                          0   \n",
       "88908                       12                          0   \n",
       "88909                       18                          1   \n",
       "\n",
       "       Current Credit Balance  Maximum Open Credit  Bankruptcies  Tax Liens  \n",
       "0                        6762               7946.0           0.0        0.0  \n",
       "1                       35706              77961.0           0.0        0.0  \n",
       "2                       11275              14815.0           1.0        0.0  \n",
       "3                        7009              43533.0           0.0        0.0  \n",
       "4                       16913              19553.0           1.0        0.0  \n",
       "...                       ...                  ...           ...        ...  \n",
       "88905                   15914              28265.0           0.0        0.0  \n",
       "88906                   17727              32766.0           0.0        0.0  \n",
       "88907                   44728              53374.0           0.0        0.0  \n",
       "88908                    6374              18422.0           0.0        0.0  \n",
       "88909                    6718              21124.0           0.0        1.0  \n",
       "\n",
       "[88908 rows x 16 columns]"
      ]
     },
     "execution_count": 252,
     "metadata": {},
     "output_type": "execute_result"
    }
   ],
   "source": [
    "X"
   ]
  },
  {
   "cell_type": "code",
   "execution_count": 253,
   "id": "56cb713b",
   "metadata": {},
   "outputs": [],
   "source": [
    "# Converting the 'Years in current job' column into a numerical column\n",
    "X['Years in current job'].replace({'10+ years':10, '< 1 year':0, '5 years':5, '1 year':1, '4 years':4, '7 years':7,\n",
    "                                   '8 years':8, '6 years':6, '9 years':9, '2 years':2, '3 years':3},inplace=True)\n",
    "\n",
    "# Encoding the 'Term' column with 0 and 1\n",
    "X['Term'].replace({'Short Term':0,'Long Term':1},inplace=True)\n",
    "\n",
    "# One-hot encoding of categorical columns\n",
    "X = pd.get_dummies(X,drop_first=True)"
   ]
  },
  {
   "cell_type": "code",
   "execution_count": 254,
   "id": "64138f28",
   "metadata": {},
   "outputs": [],
   "source": [
    "# To handle the target class imbalance we make use of stratified random sampling\n",
    "X_train,X_valid,y_train,y_valid = train_test_split(X,y,stratify=y)"
   ]
  },
  {
   "cell_type": "code",
   "execution_count": 255,
   "id": "771dd82d",
   "metadata": {},
   "outputs": [
    {
     "data": {
      "text/plain": [
       "1    71.689087\n",
       "0    28.310913\n",
       "Name: Loan Status, dtype: float64"
      ]
     },
     "execution_count": 255,
     "metadata": {},
     "output_type": "execute_result"
    }
   ],
   "source": [
    "# Checking for distribution of target class in training data\n",
    "y_train.value_counts() * 100 / len(y_train)"
   ]
  },
  {
   "cell_type": "code",
   "execution_count": 256,
   "id": "b7c66438",
   "metadata": {},
   "outputs": [
    {
     "data": {
      "text/plain": [
       "1    47803\n",
       "0    18878\n",
       "Name: Loan Status, dtype: int64"
      ]
     },
     "execution_count": 256,
     "metadata": {},
     "output_type": "execute_result"
    }
   ],
   "source": [
    "y_train.value_counts()"
   ]
  },
  {
   "cell_type": "code",
   "execution_count": 257,
   "id": "affff4ce",
   "metadata": {},
   "outputs": [
    {
     "data": {
      "text/plain": [
       "1    71.687587\n",
       "0    28.312413\n",
       "Name: Loan Status, dtype: float64"
      ]
     },
     "execution_count": 257,
     "metadata": {},
     "output_type": "execute_result"
    }
   ],
   "source": [
    "# Checking for distribution of target class in validation data\n",
    "y_valid.value_counts() * 100 / len(y_valid)"
   ]
  },
  {
   "cell_type": "code",
   "execution_count": 258,
   "id": "080400c3",
   "metadata": {},
   "outputs": [
    {
     "data": {
      "text/html": [
       "<div>\n",
       "<style scoped>\n",
       "    .dataframe tbody tr th:only-of-type {\n",
       "        vertical-align: middle;\n",
       "    }\n",
       "\n",
       "    .dataframe tbody tr th {\n",
       "        vertical-align: top;\n",
       "    }\n",
       "\n",
       "    .dataframe thead th {\n",
       "        text-align: right;\n",
       "    }\n",
       "</style>\n",
       "<table border=\"1\" class=\"dataframe\">\n",
       "  <thead>\n",
       "    <tr style=\"text-align: right;\">\n",
       "      <th></th>\n",
       "      <th>Current Loan Amount</th>\n",
       "      <th>Term</th>\n",
       "      <th>Credit Score</th>\n",
       "      <th>Years in current job</th>\n",
       "      <th>Annual Income</th>\n",
       "      <th>Monthly Debt</th>\n",
       "      <th>Years of Credit History</th>\n",
       "      <th>Months since last delinquent</th>\n",
       "      <th>Number of Open Accounts</th>\n",
       "      <th>Number of Credit Problems</th>\n",
       "      <th>...</th>\n",
       "      <th>Purpose_Home Improvements</th>\n",
       "      <th>Purpose_Medical Bills</th>\n",
       "      <th>Purpose_Take a Trip</th>\n",
       "      <th>Purpose_major_purchase</th>\n",
       "      <th>Purpose_moving</th>\n",
       "      <th>Purpose_other</th>\n",
       "      <th>Purpose_renewable_energy</th>\n",
       "      <th>Purpose_small_business</th>\n",
       "      <th>Purpose_vacation</th>\n",
       "      <th>Purpose_wedding</th>\n",
       "    </tr>\n",
       "  </thead>\n",
       "  <tbody>\n",
       "    <tr>\n",
       "      <th>32520</th>\n",
       "      <td>20458</td>\n",
       "      <td>1</td>\n",
       "      <td>723.0</td>\n",
       "      <td>6</td>\n",
       "      <td>63856.0</td>\n",
       "      <td>611.69</td>\n",
       "      <td>11.8</td>\n",
       "      <td>32.0</td>\n",
       "      <td>11</td>\n",
       "      <td>0</td>\n",
       "      <td>...</td>\n",
       "      <td>0</td>\n",
       "      <td>0</td>\n",
       "      <td>0</td>\n",
       "      <td>0</td>\n",
       "      <td>0</td>\n",
       "      <td>0</td>\n",
       "      <td>0</td>\n",
       "      <td>0</td>\n",
       "      <td>0</td>\n",
       "      <td>0</td>\n",
       "    </tr>\n",
       "    <tr>\n",
       "      <th>84957</th>\n",
       "      <td>8181</td>\n",
       "      <td>0</td>\n",
       "      <td>697.0</td>\n",
       "      <td>1</td>\n",
       "      <td>32723.0</td>\n",
       "      <td>564.48</td>\n",
       "      <td>7.4</td>\n",
       "      <td>31.0</td>\n",
       "      <td>4</td>\n",
       "      <td>0</td>\n",
       "      <td>...</td>\n",
       "      <td>0</td>\n",
       "      <td>0</td>\n",
       "      <td>0</td>\n",
       "      <td>0</td>\n",
       "      <td>0</td>\n",
       "      <td>0</td>\n",
       "      <td>0</td>\n",
       "      <td>0</td>\n",
       "      <td>0</td>\n",
       "      <td>0</td>\n",
       "    </tr>\n",
       "    <tr>\n",
       "      <th>28020</th>\n",
       "      <td>10168</td>\n",
       "      <td>0</td>\n",
       "      <td>719.0</td>\n",
       "      <td>7</td>\n",
       "      <td>57109.0</td>\n",
       "      <td>585.43</td>\n",
       "      <td>21.0</td>\n",
       "      <td>31.0</td>\n",
       "      <td>17</td>\n",
       "      <td>1</td>\n",
       "      <td>...</td>\n",
       "      <td>0</td>\n",
       "      <td>0</td>\n",
       "      <td>0</td>\n",
       "      <td>0</td>\n",
       "      <td>0</td>\n",
       "      <td>0</td>\n",
       "      <td>0</td>\n",
       "      <td>0</td>\n",
       "      <td>0</td>\n",
       "      <td>0</td>\n",
       "    </tr>\n",
       "    <tr>\n",
       "      <th>62187</th>\n",
       "      <td>7163</td>\n",
       "      <td>0</td>\n",
       "      <td>737.0</td>\n",
       "      <td>3</td>\n",
       "      <td>30699.0</td>\n",
       "      <td>537.23</td>\n",
       "      <td>4.0</td>\n",
       "      <td>32.0</td>\n",
       "      <td>8</td>\n",
       "      <td>0</td>\n",
       "      <td>...</td>\n",
       "      <td>0</td>\n",
       "      <td>0</td>\n",
       "      <td>0</td>\n",
       "      <td>0</td>\n",
       "      <td>0</td>\n",
       "      <td>0</td>\n",
       "      <td>0</td>\n",
       "      <td>0</td>\n",
       "      <td>0</td>\n",
       "      <td>0</td>\n",
       "    </tr>\n",
       "    <tr>\n",
       "      <th>52940</th>\n",
       "      <td>15400</td>\n",
       "      <td>0</td>\n",
       "      <td>718.0</td>\n",
       "      <td>10</td>\n",
       "      <td>36790.0</td>\n",
       "      <td>570.25</td>\n",
       "      <td>41.5</td>\n",
       "      <td>4.0</td>\n",
       "      <td>11</td>\n",
       "      <td>0</td>\n",
       "      <td>...</td>\n",
       "      <td>0</td>\n",
       "      <td>0</td>\n",
       "      <td>0</td>\n",
       "      <td>0</td>\n",
       "      <td>0</td>\n",
       "      <td>0</td>\n",
       "      <td>0</td>\n",
       "      <td>0</td>\n",
       "      <td>0</td>\n",
       "      <td>0</td>\n",
       "    </tr>\n",
       "    <tr>\n",
       "      <th>...</th>\n",
       "      <td>...</td>\n",
       "      <td>...</td>\n",
       "      <td>...</td>\n",
       "      <td>...</td>\n",
       "      <td>...</td>\n",
       "      <td>...</td>\n",
       "      <td>...</td>\n",
       "      <td>...</td>\n",
       "      <td>...</td>\n",
       "      <td>...</td>\n",
       "      <td>...</td>\n",
       "      <td>...</td>\n",
       "      <td>...</td>\n",
       "      <td>...</td>\n",
       "      <td>...</td>\n",
       "      <td>...</td>\n",
       "      <td>...</td>\n",
       "      <td>...</td>\n",
       "      <td>...</td>\n",
       "      <td>...</td>\n",
       "      <td>...</td>\n",
       "    </tr>\n",
       "    <tr>\n",
       "      <th>40677</th>\n",
       "      <td>11966</td>\n",
       "      <td>1</td>\n",
       "      <td>725.0</td>\n",
       "      <td>10</td>\n",
       "      <td>109692.0</td>\n",
       "      <td>1023.80</td>\n",
       "      <td>21.1</td>\n",
       "      <td>32.0</td>\n",
       "      <td>12</td>\n",
       "      <td>0</td>\n",
       "      <td>...</td>\n",
       "      <td>0</td>\n",
       "      <td>0</td>\n",
       "      <td>0</td>\n",
       "      <td>0</td>\n",
       "      <td>0</td>\n",
       "      <td>0</td>\n",
       "      <td>0</td>\n",
       "      <td>0</td>\n",
       "      <td>0</td>\n",
       "      <td>0</td>\n",
       "    </tr>\n",
       "    <tr>\n",
       "      <th>14327</th>\n",
       "      <td>99999999</td>\n",
       "      <td>0</td>\n",
       "      <td>709.0</td>\n",
       "      <td>10</td>\n",
       "      <td>17400.0</td>\n",
       "      <td>236.36</td>\n",
       "      <td>21.0</td>\n",
       "      <td>32.0</td>\n",
       "      <td>10</td>\n",
       "      <td>1</td>\n",
       "      <td>...</td>\n",
       "      <td>0</td>\n",
       "      <td>0</td>\n",
       "      <td>0</td>\n",
       "      <td>0</td>\n",
       "      <td>0</td>\n",
       "      <td>0</td>\n",
       "      <td>0</td>\n",
       "      <td>0</td>\n",
       "      <td>0</td>\n",
       "      <td>0</td>\n",
       "    </tr>\n",
       "    <tr>\n",
       "      <th>87070</th>\n",
       "      <td>1013</td>\n",
       "      <td>0</td>\n",
       "      <td>727.0</td>\n",
       "      <td>1</td>\n",
       "      <td>50645.0</td>\n",
       "      <td>1017.12</td>\n",
       "      <td>25.4</td>\n",
       "      <td>9.0</td>\n",
       "      <td>10</td>\n",
       "      <td>0</td>\n",
       "      <td>...</td>\n",
       "      <td>0</td>\n",
       "      <td>0</td>\n",
       "      <td>0</td>\n",
       "      <td>0</td>\n",
       "      <td>0</td>\n",
       "      <td>0</td>\n",
       "      <td>0</td>\n",
       "      <td>0</td>\n",
       "      <td>0</td>\n",
       "      <td>0</td>\n",
       "    </tr>\n",
       "    <tr>\n",
       "      <th>61017</th>\n",
       "      <td>11989</td>\n",
       "      <td>0</td>\n",
       "      <td>731.0</td>\n",
       "      <td>10</td>\n",
       "      <td>69937.0</td>\n",
       "      <td>1398.74</td>\n",
       "      <td>18.5</td>\n",
       "      <td>23.0</td>\n",
       "      <td>13</td>\n",
       "      <td>0</td>\n",
       "      <td>...</td>\n",
       "      <td>0</td>\n",
       "      <td>0</td>\n",
       "      <td>0</td>\n",
       "      <td>0</td>\n",
       "      <td>0</td>\n",
       "      <td>0</td>\n",
       "      <td>0</td>\n",
       "      <td>0</td>\n",
       "      <td>0</td>\n",
       "      <td>0</td>\n",
       "    </tr>\n",
       "    <tr>\n",
       "      <th>72514</th>\n",
       "      <td>19854</td>\n",
       "      <td>1</td>\n",
       "      <td>737.0</td>\n",
       "      <td>10</td>\n",
       "      <td>59562.0</td>\n",
       "      <td>398.07</td>\n",
       "      <td>15.3</td>\n",
       "      <td>32.0</td>\n",
       "      <td>6</td>\n",
       "      <td>0</td>\n",
       "      <td>...</td>\n",
       "      <td>0</td>\n",
       "      <td>0</td>\n",
       "      <td>0</td>\n",
       "      <td>0</td>\n",
       "      <td>0</td>\n",
       "      <td>1</td>\n",
       "      <td>0</td>\n",
       "      <td>0</td>\n",
       "      <td>0</td>\n",
       "      <td>0</td>\n",
       "    </tr>\n",
       "  </tbody>\n",
       "</table>\n",
       "<p>66681 rows × 30 columns</p>\n",
       "</div>"
      ],
      "text/plain": [
       "       Current Loan Amount  Term  Credit Score  Years in current job  \\\n",
       "32520                20458     1         723.0                     6   \n",
       "84957                 8181     0         697.0                     1   \n",
       "28020                10168     0         719.0                     7   \n",
       "62187                 7163     0         737.0                     3   \n",
       "52940                15400     0         718.0                    10   \n",
       "...                    ...   ...           ...                   ...   \n",
       "40677                11966     1         725.0                    10   \n",
       "14327             99999999     0         709.0                    10   \n",
       "87070                 1013     0         727.0                     1   \n",
       "61017                11989     0         731.0                    10   \n",
       "72514                19854     1         737.0                    10   \n",
       "\n",
       "       Annual Income  Monthly Debt  Years of Credit History  \\\n",
       "32520        63856.0        611.69                     11.8   \n",
       "84957        32723.0        564.48                      7.4   \n",
       "28020        57109.0        585.43                     21.0   \n",
       "62187        30699.0        537.23                      4.0   \n",
       "52940        36790.0        570.25                     41.5   \n",
       "...              ...           ...                      ...   \n",
       "40677       109692.0       1023.80                     21.1   \n",
       "14327        17400.0        236.36                     21.0   \n",
       "87070        50645.0       1017.12                     25.4   \n",
       "61017        69937.0       1398.74                     18.5   \n",
       "72514        59562.0        398.07                     15.3   \n",
       "\n",
       "       Months since last delinquent  Number of Open Accounts  \\\n",
       "32520                          32.0                       11   \n",
       "84957                          31.0                        4   \n",
       "28020                          31.0                       17   \n",
       "62187                          32.0                        8   \n",
       "52940                           4.0                       11   \n",
       "...                             ...                      ...   \n",
       "40677                          32.0                       12   \n",
       "14327                          32.0                       10   \n",
       "87070                           9.0                       10   \n",
       "61017                          23.0                       13   \n",
       "72514                          32.0                        6   \n",
       "\n",
       "       Number of Credit Problems  ...  Purpose_Home Improvements  \\\n",
       "32520                          0  ...                          0   \n",
       "84957                          0  ...                          0   \n",
       "28020                          1  ...                          0   \n",
       "62187                          0  ...                          0   \n",
       "52940                          0  ...                          0   \n",
       "...                          ...  ...                        ...   \n",
       "40677                          0  ...                          0   \n",
       "14327                          1  ...                          0   \n",
       "87070                          0  ...                          0   \n",
       "61017                          0  ...                          0   \n",
       "72514                          0  ...                          0   \n",
       "\n",
       "       Purpose_Medical Bills  Purpose_Take a Trip  Purpose_major_purchase  \\\n",
       "32520                      0                    0                       0   \n",
       "84957                      0                    0                       0   \n",
       "28020                      0                    0                       0   \n",
       "62187                      0                    0                       0   \n",
       "52940                      0                    0                       0   \n",
       "...                      ...                  ...                     ...   \n",
       "40677                      0                    0                       0   \n",
       "14327                      0                    0                       0   \n",
       "87070                      0                    0                       0   \n",
       "61017                      0                    0                       0   \n",
       "72514                      0                    0                       0   \n",
       "\n",
       "       Purpose_moving  Purpose_other  Purpose_renewable_energy  \\\n",
       "32520               0              0                         0   \n",
       "84957               0              0                         0   \n",
       "28020               0              0                         0   \n",
       "62187               0              0                         0   \n",
       "52940               0              0                         0   \n",
       "...               ...            ...                       ...   \n",
       "40677               0              0                         0   \n",
       "14327               0              0                         0   \n",
       "87070               0              0                         0   \n",
       "61017               0              0                         0   \n",
       "72514               0              1                         0   \n",
       "\n",
       "       Purpose_small_business  Purpose_vacation  Purpose_wedding  \n",
       "32520                       0                 0                0  \n",
       "84957                       0                 0                0  \n",
       "28020                       0                 0                0  \n",
       "62187                       0                 0                0  \n",
       "52940                       0                 0                0  \n",
       "...                       ...               ...              ...  \n",
       "40677                       0                 0                0  \n",
       "14327                       0                 0                0  \n",
       "87070                       0                 0                0  \n",
       "61017                       0                 0                0  \n",
       "72514                       0                 0                0  \n",
       "\n",
       "[66681 rows x 30 columns]"
      ]
     },
     "execution_count": 258,
     "metadata": {},
     "output_type": "execute_result"
    }
   ],
   "source": [
    "X_train"
   ]
  },
  {
   "cell_type": "code",
   "execution_count": 259,
   "id": "c713da74",
   "metadata": {},
   "outputs": [],
   "source": [
    "from imblearn.over_sampling import SMOTE\n",
    "sm = SMOTE(random_state=18)\n",
    "X_res, y_res = sm.fit_resample(X_train, y_train)"
   ]
  },
  {
   "cell_type": "code",
   "execution_count": 260,
   "id": "0eac073a",
   "metadata": {},
   "outputs": [
    {
     "data": {
      "text/plain": [
       "1    47803\n",
       "0    47803\n",
       "Name: Loan Status, dtype: int64"
      ]
     },
     "execution_count": 260,
     "metadata": {},
     "output_type": "execute_result"
    }
   ],
   "source": [
    "y_res.value_counts()"
   ]
  },
  {
   "cell_type": "markdown",
   "id": "92bb0bda",
   "metadata": {},
   "source": [
    "### MODEL FITTING"
   ]
  },
  {
   "cell_type": "code",
   "execution_count": 261,
   "id": "e5b0f776",
   "metadata": {},
   "outputs": [],
   "source": [
    "# Importing necessary libraries\n",
    "from sklearn.tree import DecisionTreeClassifier\n",
    "from sklearn.ensemble import RandomForestClassifier,BaggingClassifier, AdaBoostClassifier\n",
    "from sklearn.linear_model import LogisticRegression\n",
    "from sklearn.neighbors import KNeighborsClassifier\n",
    "from sklearn.metrics import roc_auc_score, f1_score, accuracy_score, classification_report"
   ]
  },
  {
   "cell_type": "markdown",
   "id": "bdb27666",
   "metadata": {},
   "source": [
    "#### Decision tree classifier"
   ]
  },
  {
   "cell_type": "code",
   "execution_count": 262,
   "id": "38b09ccf",
   "metadata": {},
   "outputs": [
    {
     "name": "stdout",
     "output_type": "stream",
     "text": [
      "Accuracy score:  0.8676384577315877\n",
      "Area under ROC : 0.8518197911211333\n",
      "F1-score:  0.905856\n",
      "              precision    recall  f1-score   support\n",
      "\n",
      "           0       0.74      0.82      0.78      6293\n",
      "           1       0.92      0.89      0.91     15934\n",
      "\n",
      "    accuracy                           0.87     22227\n",
      "   macro avg       0.83      0.85      0.84     22227\n",
      "weighted avg       0.87      0.87      0.87     22227\n",
      "\n"
     ]
    }
   ],
   "source": [
    "dt = DecisionTreeClassifier()\n",
    "dt.fit(X_res,y_res)\n",
    "y_pred = dt.predict(X_valid)\n",
    "print('Accuracy score: ',accuracy_score(y_valid,y_pred))\n",
    "print('Area under ROC :',roc_auc_score(y_valid,y_pred))\n",
    "print('F1-score: ',f1_score(y_valid,y_pred))\n",
    "print(classification_report(y_valid,y_pred))"
   ]
  },
  {
   "cell_type": "markdown",
   "id": "97f0e38e",
   "metadata": {},
   "source": [
    "#### Random Forest Classifier"
   ]
  },
  {
   "cell_type": "code",
   "execution_count": 263,
   "id": "05af70c6",
   "metadata": {},
   "outputs": [
    {
     "name": "stdout",
     "output_type": "stream",
     "text": [
      "Accuracy score:  0.8873892113195663\n",
      "Area under ROC : 0.8762677757572648\n",
      "F1-score:  0.9198911825892143\n",
      "              precision    recall  f1-score   support\n",
      "\n",
      "           0       0.77      0.85      0.81      6293\n",
      "           1       0.94      0.90      0.92     15934\n",
      "\n",
      "    accuracy                           0.89     22227\n",
      "   macro avg       0.86      0.88      0.87     22227\n",
      "weighted avg       0.89      0.89      0.89     22227\n",
      "\n"
     ]
    }
   ],
   "source": [
    "rf = RandomForestClassifier()\n",
    "rf.fit(X_res,y_res)\n",
    "y_pred = rf.predict(X_valid)\n",
    "print('Accuracy score: ',accuracy_score(y_valid,y_pred))\n",
    "print('Area under ROC :',roc_auc_score(y_valid,y_pred))\n",
    "print('F1-score: ',f1_score(y_valid,y_pred))\n",
    "print(classification_report(y_valid,y_pred))"
   ]
  },
  {
   "cell_type": "markdown",
   "id": "a55eb447",
   "metadata": {},
   "source": [
    "#### Bagging Classifier"
   ]
  },
  {
   "cell_type": "code",
   "execution_count": 264,
   "id": "8fadefa8",
   "metadata": {},
   "outputs": [
    {
     "name": "stdout",
     "output_type": "stream",
     "text": [
      "Accuracy score:  0.8799658073514195\n",
      "Area under ROC : 0.8753206731461861\n",
      "F1-score:  0.9136681335749417\n",
      "              precision    recall  f1-score   support\n",
      "\n",
      "           0       0.75      0.86      0.80      6293\n",
      "           1       0.94      0.89      0.91     15934\n",
      "\n",
      "    accuracy                           0.88     22227\n",
      "   macro avg       0.85      0.88      0.86     22227\n",
      "weighted avg       0.89      0.88      0.88     22227\n",
      "\n"
     ]
    }
   ],
   "source": [
    "bc = BaggingClassifier()\n",
    "bc.fit(X_res,y_res)\n",
    "y_pred = bc.predict(X_valid)\n",
    "print('Accuracy score: ',accuracy_score(y_valid,y_pred))\n",
    "print('Area under ROC :',roc_auc_score(y_valid,y_pred))\n",
    "print('F1-score: ',f1_score(y_valid,y_pred))\n",
    "print(classification_report(y_valid,y_pred))"
   ]
  },
  {
   "cell_type": "markdown",
   "id": "73e3be41",
   "metadata": {},
   "source": [
    "#### AdaBoostClassifier"
   ]
  },
  {
   "cell_type": "code",
   "execution_count": 265,
   "id": "31b8dd46",
   "metadata": {},
   "outputs": [
    {
     "name": "stdout",
     "output_type": "stream",
     "text": [
      "Accuracy score:  0.8779412426328339\n",
      "Area under ROC : 0.8778025859131974\n",
      "F1-score:  0.911620028015767\n",
      "              precision    recall  f1-score   support\n",
      "\n",
      "           0       0.74      0.88      0.80      6293\n",
      "           1       0.95      0.88      0.91     15934\n",
      "\n",
      "    accuracy                           0.88     22227\n",
      "   macro avg       0.84      0.88      0.86     22227\n",
      "weighted avg       0.89      0.88      0.88     22227\n",
      "\n"
     ]
    }
   ],
   "source": [
    "abc = AdaBoostClassifier()\n",
    "abc.fit(X_res,y_res)\n",
    "y_pred = abc.predict(X_valid)\n",
    "print('Accuracy score: ',accuracy_score(y_valid,y_pred))\n",
    "print('Area under ROC :',roc_auc_score(y_valid,y_pred))\n",
    "print('F1-score: ',f1_score(y_valid,y_pred))\n",
    "print(classification_report(y_valid,y_pred))"
   ]
  },
  {
   "cell_type": "markdown",
   "id": "71a7612f",
   "metadata": {},
   "source": [
    "#### kNN Classifier"
   ]
  },
  {
   "cell_type": "code",
   "execution_count": 266,
   "id": "6b1eb11e",
   "metadata": {},
   "outputs": [
    {
     "name": "stdout",
     "output_type": "stream",
     "text": [
      "Accuracy score:  0.6990597021640347\n",
      "Area under ROC : 0.6917917567601826\n",
      "F1-score:  0.7714646896033345\n",
      "              precision    recall  f1-score   support\n",
      "\n",
      "           0       0.48      0.68      0.56      6293\n",
      "           1       0.85      0.71      0.77     15934\n",
      "\n",
      "    accuracy                           0.70     22227\n",
      "   macro avg       0.66      0.69      0.67     22227\n",
      "weighted avg       0.74      0.70      0.71     22227\n",
      "\n"
     ]
    }
   ],
   "source": [
    "knn = KNeighborsClassifier()\n",
    "knn.fit(X_res,y_res)\n",
    "y_pred = knn.predict(X_valid)\n",
    "print('Accuracy score: ',accuracy_score(y_valid,y_pred))\n",
    "print('Area under ROC :',roc_auc_score(y_valid,y_pred))\n",
    "print('F1-score: ',f1_score(y_valid,y_pred))\n",
    "print(classification_report(y_valid,y_pred))"
   ]
  },
  {
   "cell_type": "markdown",
   "id": "fd7d63eb",
   "metadata": {},
   "source": [
    "#### Logisitc Regression"
   ]
  },
  {
   "cell_type": "code",
   "execution_count": 267,
   "id": "bb58efff",
   "metadata": {},
   "outputs": [
    {
     "name": "stdout",
     "output_type": "stream",
     "text": [
      "Accuracy score:  0.6645071309668421\n",
      "Area under ROC : 0.6270218097929823\n",
      "F1-score:  0.7530222236942339\n",
      "              precision    recall  f1-score   support\n",
      "\n",
      "           0       0.43      0.54      0.48      6293\n",
      "           1       0.80      0.71      0.75     15934\n",
      "\n",
      "    accuracy                           0.66     22227\n",
      "   macro avg       0.61      0.63      0.62     22227\n",
      "weighted avg       0.69      0.66      0.67     22227\n",
      "\n"
     ]
    }
   ],
   "source": [
    "lor = LogisticRegression(solver='newton-cg', class_weight='balanced')\n",
    "#lor = LogisticRegression()\n",
    "lor.fit(X_res,y_res)\n",
    "y_pred = lor.predict(X_valid)\n",
    "print('Accuracy score: ',accuracy_score(y_valid,y_pred))\n",
    "print('Area under ROC :',roc_auc_score(y_valid,y_pred))\n",
    "print('F1-score: ',f1_score(y_valid,y_pred))\n",
    "print(classification_report(y_valid,y_pred))"
   ]
  },
  {
   "cell_type": "code",
   "execution_count": null,
   "id": "8c0d01fc",
   "metadata": {},
   "outputs": [],
   "source": []
  },
  {
   "cell_type": "code",
   "execution_count": null,
   "id": "bc02f582",
   "metadata": {},
   "outputs": [],
   "source": []
  },
  {
   "cell_type": "markdown",
   "id": "1e729452",
   "metadata": {},
   "source": [
    "### Comparing the average income between customers whose loan status has been charged off and those who have fully paid"
   ]
  },
  {
   "cell_type": "markdown",
   "id": "40686bda",
   "metadata": {},
   "source": [
    "#### We're hypothesising that the average income of people who have fully paid is greater than who've been charge off."
   ]
  },
  {
   "cell_type": "code",
   "execution_count": null,
   "id": "659fbb58",
   "metadata": {},
   "outputs": [],
   "source": [
    "# # Assume that the average income of customers who have fully paid back their loan as MU0 and the average income of customers who have been charged off as MU1\n",
    "\n",
    "# print('Step 1 : Stating the hypothesis')\n",
    "# print('The null hypothesis is H0: MU0-MU1<=0')\n",
    "# print('The alternate hypothesis is H1: MU0-MU1>0 \\n')\n",
    "\n",
    "# print('Step 2 : Determining the decision criteria')\n"
   ]
  },
  {
   "cell_type": "code",
   "execution_count": null,
   "id": "919af98c",
   "metadata": {},
   "outputs": [],
   "source": []
  },
  {
   "cell_type": "code",
   "execution_count": null,
   "id": "89cb622b",
   "metadata": {},
   "outputs": [],
   "source": []
  },
  {
   "cell_type": "code",
   "execution_count": null,
   "id": "3d446f2a",
   "metadata": {},
   "outputs": [],
   "source": []
  },
  {
   "cell_type": "code",
   "execution_count": null,
   "id": "56c375b4",
   "metadata": {},
   "outputs": [],
   "source": []
  },
  {
   "cell_type": "code",
   "execution_count": null,
   "id": "06e50571",
   "metadata": {},
   "outputs": [],
   "source": []
  },
  {
   "cell_type": "code",
   "execution_count": null,
   "id": "2513d514",
   "metadata": {},
   "outputs": [],
   "source": []
  },
  {
   "cell_type": "code",
   "execution_count": null,
   "id": "a7df0afa",
   "metadata": {},
   "outputs": [],
   "source": []
  },
  {
   "cell_type": "code",
   "execution_count": null,
   "id": "a2f4c4f5",
   "metadata": {},
   "outputs": [],
   "source": []
  }
 ],
 "metadata": {
  "kernelspec": {
   "display_name": "Python 3 (ipykernel)",
   "language": "python",
   "name": "python3"
  },
  "language_info": {
   "codemirror_mode": {
    "name": "ipython",
    "version": 3
   },
   "file_extension": ".py",
   "mimetype": "text/x-python",
   "name": "python",
   "nbconvert_exporter": "python",
   "pygments_lexer": "ipython3",
   "version": "3.9.13"
  }
 },
 "nbformat": 4,
 "nbformat_minor": 5
}
